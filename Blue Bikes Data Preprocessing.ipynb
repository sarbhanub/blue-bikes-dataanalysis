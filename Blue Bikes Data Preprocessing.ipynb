{
 "cells": [
  {
   "cell_type": "code",
   "execution_count": 1,
   "id": "af19077f",
   "metadata": {},
   "outputs": [],
   "source": [
    "import os\n",
    "import numpy as np\n",
    "import pandas as pd"
   ]
  },
  {
   "cell_type": "code",
   "execution_count": 2,
   "id": "94ffa733",
   "metadata": {},
   "outputs": [],
   "source": [
    "import warnings\n",
    "\n",
    "warnings.filterwarnings(action='once') # supressing warnings"
   ]
  },
  {
   "cell_type": "code",
   "execution_count": 3,
   "id": "4685c69a",
   "metadata": {},
   "outputs": [
    {
     "data": {
      "text/plain": [
       "'1.21.5'"
      ]
     },
     "execution_count": 3,
     "metadata": {},
     "output_type": "execute_result"
    }
   ],
   "source": [
    "np.version.version"
   ]
  },
  {
   "cell_type": "code",
   "execution_count": 4,
   "id": "96e5e73c",
   "metadata": {},
   "outputs": [
    {
     "data": {
      "text/plain": [
       "'1.4.2'"
      ]
     },
     "execution_count": 4,
     "metadata": {},
     "output_type": "execute_result"
    }
   ],
   "source": [
    "pd.__version__"
   ]
  },
  {
   "cell_type": "code",
   "execution_count": 5,
   "id": "ebe43041",
   "metadata": {},
   "outputs": [
    {
     "data": {
      "text/plain": [
       "['201901-bluebikes-tripdata.csv',\n",
       " '201902-bluebikes-tripdata.csv',\n",
       " '201903-bluebikes-tripdata.csv',\n",
       " '201904-bluebikes-tripdata.csv',\n",
       " '201905-bluebikes-tripdata.csv',\n",
       " '201906-bluebikes-tripdata.csv',\n",
       " '201907-bluebikes-tripdata.csv',\n",
       " '201908-bluebikes-tripdata.csv',\n",
       " '201909-bluebikes-tripdata.csv',\n",
       " '201910-bluebikes-tripdata.csv',\n",
       " '201911-bluebikes-tripdata.csv',\n",
       " '201912-bluebikes-tripdata.csv',\n",
       " '202001-bluebikes-tripdata.csv',\n",
       " '202002-bluebikes-tripdata.csv',\n",
       " '202003-bluebikes-tripdata.csv',\n",
       " '202004-bluebikes-tripdata.csv',\n",
       " '202005-bluebikes-tripdata.csv',\n",
       " '202006-bluebikes-tripdata.csv',\n",
       " '202007-bluebikes-tripdata.csv',\n",
       " '202008-bluebikes-tripdata.csv',\n",
       " '202009-bluebikes-tripdata.csv',\n",
       " '202010-bluebikes-tripdata.csv',\n",
       " '202011-bluebikes-tripdata.csv',\n",
       " '202012-bluebikes-tripdata.csv',\n",
       " '202101-bluebikes-tripdata.csv',\n",
       " '202102-bluebikes-tripdata.csv',\n",
       " '202103-bluebikes-tripdata.csv',\n",
       " '202104-bluebikes-tripdata.csv',\n",
       " '202105-bluebikes-tripdata.csv',\n",
       " '202106-bluebikes-tripdata.csv',\n",
       " '202107-bluebikes-tripdata.csv',\n",
       " '202108-bluebikes-tripdata.csv',\n",
       " '202109-bluebikes-tripdata.csv',\n",
       " '202110-bluebikes-tripdata.csv',\n",
       " '202111-bluebikes-tripdata.csv',\n",
       " '202112-bluebikes-tripdata.csv',\n",
       " '202201-bluebikes-tripdata.csv',\n",
       " '202202-bluebikes-tripdata.csv',\n",
       " '202203-bluebikes-tripdata.csv',\n",
       " '202204-bluebikes-tripdata.csv',\n",
       " '202205-bluebikes-tripdata.csv',\n",
       " '202206-bluebikes-tripdata.csv',\n",
       " '202207-bluebikes-tripdata.csv',\n",
       " '202208-bluebikes-tripdata.csv',\n",
       " '202209-bluebikes-tripdata.csv',\n",
       " '202210-bluebikes-tripdata.csv',\n",
       " '202211-bluebikes-tripdata.csv']"
      ]
     },
     "execution_count": 5,
     "metadata": {},
     "output_type": "execute_result"
    }
   ],
   "source": [
    "# Blue Bikes tripdata from 2019 to 2022 (Nov)\n",
    "\n",
    "path = 'data/'\n",
    "os.listdir(path)"
   ]
  },
  {
   "cell_type": "code",
   "execution_count": 6,
   "id": "773e0bdd",
   "metadata": {},
   "outputs": [],
   "source": [
    "# seperating them in diff. objects\n",
    "\n",
    "file_list_2019 = [path + f for f in os.listdir(path) if f.startswith('2019')]\n",
    "file_list_2020 = [path + f for f in os.listdir(path) if f.startswith('2020')]\n",
    "\n",
    "file_list_2021 = [path + f for f in os.listdir(path) if f.startswith('2021')]\n",
    "file_list_2022 = [path + f for f in os.listdir(path) if f.startswith('2022')]"
   ]
  },
  {
   "cell_type": "code",
   "execution_count": 7,
   "id": "6723f54f",
   "metadata": {},
   "outputs": [],
   "source": [
    "csv_list_2019 = []\n",
    "csv_list_2020 = []\n",
    "\n",
    "csv_list_2021 = []\n",
    "csv_list_2022 = []"
   ]
  },
  {
   "cell_type": "code",
   "execution_count": 8,
   "id": "a5dccf98",
   "metadata": {},
   "outputs": [],
   "source": [
    "# appending files to the empty lists\n",
    "\n",
    "for file in sorted(file_list_2019):\n",
    "    csv_list_2019.append(pd.read_csv(file))\n",
    "\n",
    "for file in sorted(file_list_2020):\n",
    "    csv_list_2020.append(pd.read_csv(file))\n",
    "\n",
    "\n",
    "for file in sorted(file_list_2021):\n",
    "    csv_list_2021.append(pd.read_csv(file))\n",
    "\n",
    "for file in sorted(file_list_2022):\n",
    "    csv_list_2022.append(pd.read_csv(file))"
   ]
  },
  {
   "cell_type": "code",
   "execution_count": 9,
   "id": "2673c6f2",
   "metadata": {},
   "outputs": [],
   "source": [
    "# merging to dataframe\n",
    "\n",
    "csv_merged_2019 = pd.concat(csv_list_2019, ignore_index=True)\n",
    "csv_merged_2020 = pd.concat(csv_list_2020, ignore_index=True)\n",
    "\n",
    "csv_merged_2021 = pd.concat(csv_list_2021, ignore_index=True)\n",
    "csv_merged_2022 = pd.concat(csv_list_2022, ignore_index=True)"
   ]
  },
  {
   "cell_type": "code",
   "execution_count": 10,
   "id": "abda2dc5",
   "metadata": {},
   "outputs": [
    {
     "data": {
      "text/html": [
       "<div>\n",
       "<style scoped>\n",
       "    .dataframe tbody tr th:only-of-type {\n",
       "        vertical-align: middle;\n",
       "    }\n",
       "\n",
       "    .dataframe tbody tr th {\n",
       "        vertical-align: top;\n",
       "    }\n",
       "\n",
       "    .dataframe thead th {\n",
       "        text-align: right;\n",
       "    }\n",
       "</style>\n",
       "<table border=\"1\" class=\"dataframe\">\n",
       "  <thead>\n",
       "    <tr style=\"text-align: right;\">\n",
       "      <th></th>\n",
       "      <th>tripduration</th>\n",
       "      <th>starttime</th>\n",
       "      <th>stoptime</th>\n",
       "      <th>start station id</th>\n",
       "      <th>start station name</th>\n",
       "      <th>start station latitude</th>\n",
       "      <th>start station longitude</th>\n",
       "      <th>end station id</th>\n",
       "      <th>end station name</th>\n",
       "      <th>end station latitude</th>\n",
       "      <th>end station longitude</th>\n",
       "      <th>bikeid</th>\n",
       "      <th>usertype</th>\n",
       "      <th>birth year</th>\n",
       "      <th>gender</th>\n",
       "    </tr>\n",
       "  </thead>\n",
       "  <tbody>\n",
       "    <tr>\n",
       "      <th>0</th>\n",
       "      <td>371</td>\n",
       "      <td>2019-01-01 00:09:13.7980</td>\n",
       "      <td>2019-01-01 00:15:25.3360</td>\n",
       "      <td>80</td>\n",
       "      <td>MIT Stata Center at Vassar St / Main St</td>\n",
       "      <td>42.362131</td>\n",
       "      <td>-71.091156</td>\n",
       "      <td>179</td>\n",
       "      <td>MIT Vassar St</td>\n",
       "      <td>42.355601</td>\n",
       "      <td>-71.103945</td>\n",
       "      <td>3689</td>\n",
       "      <td>Subscriber</td>\n",
       "      <td>1987</td>\n",
       "      <td>1</td>\n",
       "    </tr>\n",
       "    <tr>\n",
       "      <th>1</th>\n",
       "      <td>264</td>\n",
       "      <td>2019-01-01 00:33:56.1820</td>\n",
       "      <td>2019-01-01 00:38:20.8800</td>\n",
       "      <td>117</td>\n",
       "      <td>Binney St / Sixth St</td>\n",
       "      <td>42.366162</td>\n",
       "      <td>-71.086883</td>\n",
       "      <td>189</td>\n",
       "      <td>Kendall T</td>\n",
       "      <td>42.362428</td>\n",
       "      <td>-71.084955</td>\n",
       "      <td>4142</td>\n",
       "      <td>Subscriber</td>\n",
       "      <td>1990</td>\n",
       "      <td>1</td>\n",
       "    </tr>\n",
       "  </tbody>\n",
       "</table>\n",
       "</div>"
      ],
      "text/plain": [
       "   tripduration                 starttime                  stoptime  \\\n",
       "0           371  2019-01-01 00:09:13.7980  2019-01-01 00:15:25.3360   \n",
       "1           264  2019-01-01 00:33:56.1820  2019-01-01 00:38:20.8800   \n",
       "\n",
       "   start station id                       start station name  \\\n",
       "0                80  MIT Stata Center at Vassar St / Main St   \n",
       "1               117                     Binney St / Sixth St   \n",
       "\n",
       "   start station latitude  start station longitude  end station id  \\\n",
       "0               42.362131               -71.091156             179   \n",
       "1               42.366162               -71.086883             189   \n",
       "\n",
       "  end station name  end station latitude  end station longitude  bikeid  \\\n",
       "0    MIT Vassar St             42.355601             -71.103945    3689   \n",
       "1        Kendall T             42.362428             -71.084955    4142   \n",
       "\n",
       "     usertype  birth year  gender  \n",
       "0  Subscriber        1987       1  \n",
       "1  Subscriber        1990       1  "
      ]
     },
     "execution_count": 10,
     "metadata": {},
     "output_type": "execute_result"
    }
   ],
   "source": [
    "csv_merged_2019.head(2)"
   ]
  },
  {
   "cell_type": "code",
   "execution_count": 11,
   "id": "0ee747df",
   "metadata": {},
   "outputs": [
    {
     "data": {
      "text/plain": [
       "(2522771, 15)"
      ]
     },
     "execution_count": 11,
     "metadata": {},
     "output_type": "execute_result"
    }
   ],
   "source": [
    "csv_merged_2019.shape"
   ]
  },
  {
   "cell_type": "code",
   "execution_count": 12,
   "id": "6c202afa",
   "metadata": {},
   "outputs": [
    {
     "data": {
      "text/html": [
       "<div>\n",
       "<style scoped>\n",
       "    .dataframe tbody tr th:only-of-type {\n",
       "        vertical-align: middle;\n",
       "    }\n",
       "\n",
       "    .dataframe tbody tr th {\n",
       "        vertical-align: top;\n",
       "    }\n",
       "\n",
       "    .dataframe thead th {\n",
       "        text-align: right;\n",
       "    }\n",
       "</style>\n",
       "<table border=\"1\" class=\"dataframe\">\n",
       "  <thead>\n",
       "    <tr style=\"text-align: right;\">\n",
       "      <th></th>\n",
       "      <th>tripduration</th>\n",
       "      <th>starttime</th>\n",
       "      <th>stoptime</th>\n",
       "      <th>start station id</th>\n",
       "      <th>start station name</th>\n",
       "      <th>start station latitude</th>\n",
       "      <th>start station longitude</th>\n",
       "      <th>end station id</th>\n",
       "      <th>end station name</th>\n",
       "      <th>end station latitude</th>\n",
       "      <th>end station longitude</th>\n",
       "      <th>bikeid</th>\n",
       "      <th>usertype</th>\n",
       "      <th>birth year</th>\n",
       "      <th>gender</th>\n",
       "      <th>postal code</th>\n",
       "    </tr>\n",
       "  </thead>\n",
       "  <tbody>\n",
       "    <tr>\n",
       "      <th>0</th>\n",
       "      <td>478</td>\n",
       "      <td>2020-01-01 00:04:05.8090</td>\n",
       "      <td>2020-01-01 00:12:04.2370</td>\n",
       "      <td>366</td>\n",
       "      <td>Broadway T Stop</td>\n",
       "      <td>42.342781</td>\n",
       "      <td>-71.057473</td>\n",
       "      <td>93</td>\n",
       "      <td>JFK/UMass T Stop</td>\n",
       "      <td>42.320340</td>\n",
       "      <td>-71.051180</td>\n",
       "      <td>6005</td>\n",
       "      <td>Customer</td>\n",
       "      <td>1969.0</td>\n",
       "      <td>0.0</td>\n",
       "      <td>NaN</td>\n",
       "    </tr>\n",
       "    <tr>\n",
       "      <th>1</th>\n",
       "      <td>363</td>\n",
       "      <td>2020-01-01 00:04:45.6990</td>\n",
       "      <td>2020-01-01 00:10:49.0400</td>\n",
       "      <td>219</td>\n",
       "      <td>Boston East - 126 Border St</td>\n",
       "      <td>42.373312</td>\n",
       "      <td>-71.041020</td>\n",
       "      <td>212</td>\n",
       "      <td>Maverick Square - Lewis Mall</td>\n",
       "      <td>42.368844</td>\n",
       "      <td>-71.039778</td>\n",
       "      <td>3168</td>\n",
       "      <td>Subscriber</td>\n",
       "      <td>2000.0</td>\n",
       "      <td>1.0</td>\n",
       "      <td>NaN</td>\n",
       "    </tr>\n",
       "  </tbody>\n",
       "</table>\n",
       "</div>"
      ],
      "text/plain": [
       "   tripduration                 starttime                  stoptime  \\\n",
       "0           478  2020-01-01 00:04:05.8090  2020-01-01 00:12:04.2370   \n",
       "1           363  2020-01-01 00:04:45.6990  2020-01-01 00:10:49.0400   \n",
       "\n",
       "   start station id           start station name  start station latitude  \\\n",
       "0               366              Broadway T Stop               42.342781   \n",
       "1               219  Boston East - 126 Border St               42.373312   \n",
       "\n",
       "   start station longitude  end station id              end station name  \\\n",
       "0               -71.057473              93              JFK/UMass T Stop   \n",
       "1               -71.041020             212  Maverick Square - Lewis Mall   \n",
       "\n",
       "   end station latitude  end station longitude  bikeid    usertype  \\\n",
       "0             42.320340             -71.051180    6005    Customer   \n",
       "1             42.368844             -71.039778    3168  Subscriber   \n",
       "\n",
       "   birth year  gender postal code  \n",
       "0      1969.0     0.0         NaN  \n",
       "1      2000.0     1.0         NaN  "
      ]
     },
     "execution_count": 12,
     "metadata": {},
     "output_type": "execute_result"
    }
   ],
   "source": [
    "csv_merged_2020.head(2)"
   ]
  },
  {
   "cell_type": "code",
   "execution_count": 13,
   "id": "da0624fc",
   "metadata": {},
   "outputs": [
    {
     "data": {
      "text/plain": [
       "(2073448, 16)"
      ]
     },
     "execution_count": 13,
     "metadata": {},
     "output_type": "execute_result"
    }
   ],
   "source": [
    "csv_merged_2020.shape"
   ]
  },
  {
   "cell_type": "code",
   "execution_count": 14,
   "id": "33332df1",
   "metadata": {},
   "outputs": [
    {
     "data": {
      "text/html": [
       "<div>\n",
       "<style scoped>\n",
       "    .dataframe tbody tr th:only-of-type {\n",
       "        vertical-align: middle;\n",
       "    }\n",
       "\n",
       "    .dataframe tbody tr th {\n",
       "        vertical-align: top;\n",
       "    }\n",
       "\n",
       "    .dataframe thead th {\n",
       "        text-align: right;\n",
       "    }\n",
       "</style>\n",
       "<table border=\"1\" class=\"dataframe\">\n",
       "  <thead>\n",
       "    <tr style=\"text-align: right;\">\n",
       "      <th></th>\n",
       "      <th>tripduration</th>\n",
       "      <th>starttime</th>\n",
       "      <th>stoptime</th>\n",
       "      <th>start station id</th>\n",
       "      <th>start station name</th>\n",
       "      <th>start station latitude</th>\n",
       "      <th>start station longitude</th>\n",
       "      <th>end station id</th>\n",
       "      <th>end station name</th>\n",
       "      <th>end station latitude</th>\n",
       "      <th>end station longitude</th>\n",
       "      <th>bikeid</th>\n",
       "      <th>usertype</th>\n",
       "      <th>postal code</th>\n",
       "    </tr>\n",
       "  </thead>\n",
       "  <tbody>\n",
       "    <tr>\n",
       "      <th>0</th>\n",
       "      <td>914</td>\n",
       "      <td>2021-01-01 00:00:04.5900</td>\n",
       "      <td>2021-01-01 00:15:19.1680</td>\n",
       "      <td>91</td>\n",
       "      <td>One Kendall Square at Hampshire St / Portland St</td>\n",
       "      <td>42.366277</td>\n",
       "      <td>-71.091690</td>\n",
       "      <td>370</td>\n",
       "      <td>Dartmouth St at Newbury St</td>\n",
       "      <td>42.350961</td>\n",
       "      <td>-71.077828</td>\n",
       "      <td>5316</td>\n",
       "      <td>Customer</td>\n",
       "      <td>02139</td>\n",
       "    </tr>\n",
       "    <tr>\n",
       "      <th>1</th>\n",
       "      <td>1085</td>\n",
       "      <td>2021-01-01 00:00:21.8030</td>\n",
       "      <td>2021-01-01 00:18:27.4640</td>\n",
       "      <td>370</td>\n",
       "      <td>Dartmouth St at Newbury St</td>\n",
       "      <td>42.350961</td>\n",
       "      <td>-71.077828</td>\n",
       "      <td>169</td>\n",
       "      <td>Edwards Playground - Main St at Eden St</td>\n",
       "      <td>42.378965</td>\n",
       "      <td>-71.068607</td>\n",
       "      <td>4917</td>\n",
       "      <td>Subscriber</td>\n",
       "      <td>02116</td>\n",
       "    </tr>\n",
       "  </tbody>\n",
       "</table>\n",
       "</div>"
      ],
      "text/plain": [
       "   tripduration                 starttime                  stoptime  \\\n",
       "0           914  2021-01-01 00:00:04.5900  2021-01-01 00:15:19.1680   \n",
       "1          1085  2021-01-01 00:00:21.8030  2021-01-01 00:18:27.4640   \n",
       "\n",
       "   start station id                                start station name  \\\n",
       "0                91  One Kendall Square at Hampshire St / Portland St   \n",
       "1               370                        Dartmouth St at Newbury St   \n",
       "\n",
       "   start station latitude  start station longitude  end station id  \\\n",
       "0               42.366277               -71.091690             370   \n",
       "1               42.350961               -71.077828             169   \n",
       "\n",
       "                          end station name  end station latitude  \\\n",
       "0               Dartmouth St at Newbury St             42.350961   \n",
       "1  Edwards Playground - Main St at Eden St             42.378965   \n",
       "\n",
       "   end station longitude  bikeid    usertype postal code  \n",
       "0             -71.077828    5316    Customer       02139  \n",
       "1             -71.068607    4917  Subscriber       02116  "
      ]
     },
     "execution_count": 14,
     "metadata": {},
     "output_type": "execute_result"
    }
   ],
   "source": [
    "csv_merged_2021.head(2)"
   ]
  },
  {
   "cell_type": "code",
   "execution_count": 15,
   "id": "7f665cda",
   "metadata": {},
   "outputs": [
    {
     "data": {
      "text/plain": [
       "(2934378, 14)"
      ]
     },
     "execution_count": 15,
     "metadata": {},
     "output_type": "execute_result"
    }
   ],
   "source": [
    "csv_merged_2021.shape"
   ]
  },
  {
   "cell_type": "code",
   "execution_count": 16,
   "id": "131ce0fa",
   "metadata": {},
   "outputs": [
    {
     "data": {
      "text/html": [
       "<div>\n",
       "<style scoped>\n",
       "    .dataframe tbody tr th:only-of-type {\n",
       "        vertical-align: middle;\n",
       "    }\n",
       "\n",
       "    .dataframe tbody tr th {\n",
       "        vertical-align: top;\n",
       "    }\n",
       "\n",
       "    .dataframe thead th {\n",
       "        text-align: right;\n",
       "    }\n",
       "</style>\n",
       "<table border=\"1\" class=\"dataframe\">\n",
       "  <thead>\n",
       "    <tr style=\"text-align: right;\">\n",
       "      <th></th>\n",
       "      <th>tripduration</th>\n",
       "      <th>starttime</th>\n",
       "      <th>stoptime</th>\n",
       "      <th>start station id</th>\n",
       "      <th>start station name</th>\n",
       "      <th>start station latitude</th>\n",
       "      <th>start station longitude</th>\n",
       "      <th>end station id</th>\n",
       "      <th>end station name</th>\n",
       "      <th>end station latitude</th>\n",
       "      <th>end station longitude</th>\n",
       "      <th>bikeid</th>\n",
       "      <th>usertype</th>\n",
       "      <th>postal code</th>\n",
       "    </tr>\n",
       "  </thead>\n",
       "  <tbody>\n",
       "    <tr>\n",
       "      <th>0</th>\n",
       "      <td>597</td>\n",
       "      <td>2022-01-01 00:00:25.1660</td>\n",
       "      <td>2022-01-01 00:10:22.1920</td>\n",
       "      <td>178</td>\n",
       "      <td>MIT Pacific St at Purrington St</td>\n",
       "      <td>42.359573</td>\n",
       "      <td>-71.101295</td>\n",
       "      <td>74</td>\n",
       "      <td>Harvard Square at Mass Ave/ Dunster</td>\n",
       "      <td>42.373268</td>\n",
       "      <td>-71.118579</td>\n",
       "      <td>4923</td>\n",
       "      <td>Subscriber</td>\n",
       "      <td>02139</td>\n",
       "    </tr>\n",
       "    <tr>\n",
       "      <th>1</th>\n",
       "      <td>411</td>\n",
       "      <td>2022-01-01 00:00:40.4300</td>\n",
       "      <td>2022-01-01 00:07:32.1980</td>\n",
       "      <td>189</td>\n",
       "      <td>Kendall T</td>\n",
       "      <td>42.362428</td>\n",
       "      <td>-71.084955</td>\n",
       "      <td>178</td>\n",
       "      <td>MIT Pacific St at Purrington St</td>\n",
       "      <td>42.359573</td>\n",
       "      <td>-71.101295</td>\n",
       "      <td>3112</td>\n",
       "      <td>Subscriber</td>\n",
       "      <td>02139</td>\n",
       "    </tr>\n",
       "  </tbody>\n",
       "</table>\n",
       "</div>"
      ],
      "text/plain": [
       "   tripduration                 starttime                  stoptime  \\\n",
       "0           597  2022-01-01 00:00:25.1660  2022-01-01 00:10:22.1920   \n",
       "1           411  2022-01-01 00:00:40.4300  2022-01-01 00:07:32.1980   \n",
       "\n",
       "   start station id               start station name  start station latitude  \\\n",
       "0               178  MIT Pacific St at Purrington St               42.359573   \n",
       "1               189                        Kendall T               42.362428   \n",
       "\n",
       "   start station longitude  end station id  \\\n",
       "0               -71.101295              74   \n",
       "1               -71.084955             178   \n",
       "\n",
       "                      end station name  end station latitude  \\\n",
       "0  Harvard Square at Mass Ave/ Dunster             42.373268   \n",
       "1      MIT Pacific St at Purrington St             42.359573   \n",
       "\n",
       "   end station longitude  bikeid    usertype postal code  \n",
       "0             -71.118579    4923  Subscriber       02139  \n",
       "1             -71.101295    3112  Subscriber       02139  "
      ]
     },
     "execution_count": 16,
     "metadata": {},
     "output_type": "execute_result"
    }
   ],
   "source": [
    "csv_merged_2022.head(2)"
   ]
  },
  {
   "cell_type": "code",
   "execution_count": 17,
   "id": "3bfdbb48",
   "metadata": {},
   "outputs": [
    {
     "data": {
      "text/plain": [
       "(3614369, 14)"
      ]
     },
     "execution_count": 17,
     "metadata": {},
     "output_type": "execute_result"
    }
   ],
   "source": [
    "csv_merged_2022.shape"
   ]
  },
  {
   "cell_type": "code",
   "execution_count": 18,
   "id": "7e5d6986",
   "metadata": {},
   "outputs": [
    {
     "data": {
      "text/plain": [
       "tripduration                 int64\n",
       "starttime                   object\n",
       "stoptime                    object\n",
       "start station id             int64\n",
       "start station name          object\n",
       "start station latitude     float64\n",
       "start station longitude    float64\n",
       "end station id               int64\n",
       "end station name            object\n",
       "end station latitude       float64\n",
       "end station longitude      float64\n",
       "bikeid                       int64\n",
       "usertype                    object\n",
       "postal code                 object\n",
       "dtype: object"
      ]
     },
     "execution_count": 18,
     "metadata": {},
     "output_type": "execute_result"
    }
   ],
   "source": [
    "# working with latest data ## 2021-2022\n",
    "\n",
    "csv_merged_2021.dtypes"
   ]
  },
  {
   "cell_type": "code",
   "execution_count": 19,
   "id": "11536ecd",
   "metadata": {},
   "outputs": [
    {
     "data": {
      "text/plain": [
       "tripduration                    0\n",
       "starttime                       0\n",
       "stoptime                        0\n",
       "start station id                0\n",
       "start station name              0\n",
       "start station latitude          0\n",
       "start station longitude         0\n",
       "end station id                  0\n",
       "end station name                0\n",
       "end station latitude            0\n",
       "end station longitude           0\n",
       "bikeid                          0\n",
       "usertype                        0\n",
       "postal code                222076\n",
       "dtype: int64"
      ]
     },
     "execution_count": 19,
     "metadata": {},
     "output_type": "execute_result"
    }
   ],
   "source": [
    "csv_merged_2021.isnull().sum()"
   ]
  },
  {
   "cell_type": "code",
   "execution_count": 20,
   "id": "232461e7",
   "metadata": {},
   "outputs": [
    {
     "data": {
      "text/plain": [
       "tripduration                 int64\n",
       "starttime                   object\n",
       "stoptime                    object\n",
       "start station id             int64\n",
       "start station name          object\n",
       "start station latitude     float64\n",
       "start station longitude    float64\n",
       "end station id               int64\n",
       "end station name            object\n",
       "end station latitude       float64\n",
       "end station longitude      float64\n",
       "bikeid                       int64\n",
       "usertype                    object\n",
       "postal code                 object\n",
       "dtype: object"
      ]
     },
     "execution_count": 20,
     "metadata": {},
     "output_type": "execute_result"
    }
   ],
   "source": [
    "csv_merged_2022.dtypes"
   ]
  },
  {
   "cell_type": "code",
   "execution_count": 21,
   "id": "82b91c4b",
   "metadata": {},
   "outputs": [
    {
     "data": {
      "text/plain": [
       "tripduration                    0\n",
       "starttime                       0\n",
       "stoptime                        0\n",
       "start station id                0\n",
       "start station name              0\n",
       "start station latitude          0\n",
       "start station longitude         0\n",
       "end station id                  0\n",
       "end station name                0\n",
       "end station latitude            0\n",
       "end station longitude           0\n",
       "bikeid                          0\n",
       "usertype                        0\n",
       "postal code                456687\n",
       "dtype: int64"
      ]
     },
     "execution_count": 21,
     "metadata": {},
     "output_type": "execute_result"
    }
   ],
   "source": [
    "csv_merged_2022.isnull().sum()"
   ]
  },
  {
   "cell_type": "code",
   "execution_count": 22,
   "id": "791b6db3",
   "metadata": {},
   "outputs": [
    {
     "data": {
      "text/plain": [
       "tripduration               True\n",
       "starttime                  True\n",
       "stoptime                   True\n",
       "start station id           True\n",
       "start station name         True\n",
       "start station latitude     True\n",
       "start station longitude    True\n",
       "end station id             True\n",
       "end station name           True\n",
       "end station latitude       True\n",
       "end station longitude      True\n",
       "bikeid                     True\n",
       "usertype                   True\n",
       "postal code                True\n",
       "dtype: bool"
      ]
     },
     "execution_count": 22,
     "metadata": {},
     "output_type": "execute_result"
    }
   ],
   "source": [
    "# comparing datatypes\n",
    "\n",
    "csv_merged_2021.dtypes == csv_merged_2022.dtypes"
   ]
  },
  {
   "cell_type": "code",
   "execution_count": 23,
   "id": "daab7457",
   "metadata": {},
   "outputs": [
    {
     "data": {
      "text/plain": [
       "tripduration                 int64\n",
       "starttime                   object\n",
       "stoptime                    object\n",
       "start station id             int64\n",
       "start station name          object\n",
       "start station latitude     float64\n",
       "start station longitude    float64\n",
       "end station id               int64\n",
       "end station name            object\n",
       "end station latitude       float64\n",
       "end station longitude      float64\n",
       "bikeid                       int64\n",
       "usertype                    object\n",
       "birth year                   int64\n",
       "gender                       int64\n",
       "dtype: object"
      ]
     },
     "execution_count": 23,
     "metadata": {},
     "output_type": "execute_result"
    }
   ],
   "source": [
    "# working with older data ## 2019 - 2020\n",
    "\n",
    "csv_merged_2019.dtypes"
   ]
  },
  {
   "cell_type": "code",
   "execution_count": 24,
   "id": "9bd36d33",
   "metadata": {},
   "outputs": [
    {
     "data": {
      "text/plain": [
       "tripduration               0\n",
       "starttime                  0\n",
       "stoptime                   0\n",
       "start station id           0\n",
       "start station name         0\n",
       "start station latitude     0\n",
       "start station longitude    0\n",
       "end station id             0\n",
       "end station name           0\n",
       "end station latitude       0\n",
       "end station longitude      0\n",
       "bikeid                     0\n",
       "usertype                   0\n",
       "birth year                 0\n",
       "gender                     0\n",
       "dtype: int64"
      ]
     },
     "execution_count": 24,
     "metadata": {},
     "output_type": "execute_result"
    }
   ],
   "source": [
    "csv_merged_2019.isnull().sum()"
   ]
  },
  {
   "cell_type": "code",
   "execution_count": 25,
   "id": "f96ddd7c",
   "metadata": {},
   "outputs": [
    {
     "data": {
      "text/plain": [
       "tripduration                 int64\n",
       "starttime                   object\n",
       "stoptime                    object\n",
       "start station id             int64\n",
       "start station name          object\n",
       "start station latitude     float64\n",
       "start station longitude    float64\n",
       "end station id               int64\n",
       "end station name            object\n",
       "end station latitude       float64\n",
       "end station longitude      float64\n",
       "bikeid                       int64\n",
       "usertype                    object\n",
       "birth year                 float64\n",
       "gender                     float64\n",
       "postal code                 object\n",
       "dtype: object"
      ]
     },
     "execution_count": 25,
     "metadata": {},
     "output_type": "execute_result"
    }
   ],
   "source": [
    "csv_merged_2020.dtypes"
   ]
  },
  {
   "cell_type": "code",
   "execution_count": 26,
   "id": "d688e04a",
   "metadata": {},
   "outputs": [
    {
     "data": {
      "text/plain": [
       "tripduration                     0\n",
       "starttime                        0\n",
       "stoptime                         0\n",
       "start station id                 0\n",
       "start station name               0\n",
       "start station latitude           0\n",
       "start station longitude          0\n",
       "end station id                   0\n",
       "end station name                 0\n",
       "end station latitude             0\n",
       "end station longitude            0\n",
       "bikeid                           0\n",
       "usertype                         0\n",
       "birth year                 1657472\n",
       "gender                     1657472\n",
       "postal code                 560202\n",
       "dtype: int64"
      ]
     },
     "execution_count": 26,
     "metadata": {},
     "output_type": "execute_result"
    }
   ],
   "source": [
    "csv_merged_2020.isnull().sum()"
   ]
  },
  {
   "cell_type": "code",
   "execution_count": 27,
   "id": "86cf4448",
   "metadata": {},
   "outputs": [],
   "source": [
    "'''\n",
    "dropping postal code from all of them since we'll be collecting them later\n",
    "and also they're incomplete here.\n",
    "\n",
    "csv_merged_2019 don't have postal code.\n",
    "'''\n",
    "\n",
    "frames = [csv_merged_2020, csv_merged_2021, csv_merged_2022]\n",
    "\n",
    "for x in (frames):\n",
    "    x = x.drop('postal code', axis = 1, inplace = True)"
   ]
  },
  {
   "cell_type": "code",
   "execution_count": 28,
   "id": "d77219ce",
   "metadata": {},
   "outputs": [
    {
     "data": {
      "text/plain": [
       "tripduration                True\n",
       "starttime                   True\n",
       "stoptime                    True\n",
       "start station id            True\n",
       "start station name          True\n",
       "start station latitude      True\n",
       "start station longitude     True\n",
       "end station id              True\n",
       "end station name            True\n",
       "end station latitude        True\n",
       "end station longitude       True\n",
       "bikeid                      True\n",
       "usertype                    True\n",
       "birth year                 False\n",
       "gender                     False\n",
       "dtype: bool"
      ]
     },
     "execution_count": 28,
     "metadata": {},
     "output_type": "execute_result"
    }
   ],
   "source": [
    "# comparing datatypes\n",
    "\n",
    "csv_merged_2019.dtypes == csv_merged_2020.dtypes"
   ]
  },
  {
   "cell_type": "code",
   "execution_count": 29,
   "id": "67ea6d42",
   "metadata": {},
   "outputs": [
    {
     "data": {
      "text/html": [
       "<div>\n",
       "<style scoped>\n",
       "    .dataframe tbody tr th:only-of-type {\n",
       "        vertical-align: middle;\n",
       "    }\n",
       "\n",
       "    .dataframe tbody tr th {\n",
       "        vertical-align: top;\n",
       "    }\n",
       "\n",
       "    .dataframe thead th {\n",
       "        text-align: right;\n",
       "    }\n",
       "</style>\n",
       "<table border=\"1\" class=\"dataframe\">\n",
       "  <thead>\n",
       "    <tr style=\"text-align: right;\">\n",
       "      <th></th>\n",
       "      <th>tripduration</th>\n",
       "      <th>starttime</th>\n",
       "      <th>stoptime</th>\n",
       "      <th>start station id</th>\n",
       "      <th>start station name</th>\n",
       "      <th>start station latitude</th>\n",
       "      <th>start station longitude</th>\n",
       "      <th>end station id</th>\n",
       "      <th>end station name</th>\n",
       "      <th>end station latitude</th>\n",
       "      <th>end station longitude</th>\n",
       "      <th>bikeid</th>\n",
       "      <th>usertype</th>\n",
       "      <th>birth year</th>\n",
       "      <th>gender</th>\n",
       "    </tr>\n",
       "  </thead>\n",
       "  <tbody>\n",
       "    <tr>\n",
       "      <th>0</th>\n",
       "      <td>478</td>\n",
       "      <td>2020-01-01 00:04:05.8090</td>\n",
       "      <td>2020-01-01 00:12:04.2370</td>\n",
       "      <td>366</td>\n",
       "      <td>Broadway T Stop</td>\n",
       "      <td>42.342781</td>\n",
       "      <td>-71.057473</td>\n",
       "      <td>93</td>\n",
       "      <td>JFK/UMass T Stop</td>\n",
       "      <td>42.320340</td>\n",
       "      <td>-71.051180</td>\n",
       "      <td>6005</td>\n",
       "      <td>Customer</td>\n",
       "      <td>1969.0</td>\n",
       "      <td>0.0</td>\n",
       "    </tr>\n",
       "    <tr>\n",
       "      <th>1</th>\n",
       "      <td>363</td>\n",
       "      <td>2020-01-01 00:04:45.6990</td>\n",
       "      <td>2020-01-01 00:10:49.0400</td>\n",
       "      <td>219</td>\n",
       "      <td>Boston East - 126 Border St</td>\n",
       "      <td>42.373312</td>\n",
       "      <td>-71.041020</td>\n",
       "      <td>212</td>\n",
       "      <td>Maverick Square - Lewis Mall</td>\n",
       "      <td>42.368844</td>\n",
       "      <td>-71.039778</td>\n",
       "      <td>3168</td>\n",
       "      <td>Subscriber</td>\n",
       "      <td>2000.0</td>\n",
       "      <td>1.0</td>\n",
       "    </tr>\n",
       "    <tr>\n",
       "      <th>2</th>\n",
       "      <td>284</td>\n",
       "      <td>2020-01-01 00:06:07.0630</td>\n",
       "      <td>2020-01-01 00:10:51.9240</td>\n",
       "      <td>219</td>\n",
       "      <td>Boston East - 126 Border St</td>\n",
       "      <td>42.373312</td>\n",
       "      <td>-71.041020</td>\n",
       "      <td>212</td>\n",
       "      <td>Maverick Square - Lewis Mall</td>\n",
       "      <td>42.368844</td>\n",
       "      <td>-71.039778</td>\n",
       "      <td>3985</td>\n",
       "      <td>Subscriber</td>\n",
       "      <td>2001.0</td>\n",
       "      <td>1.0</td>\n",
       "    </tr>\n",
       "    <tr>\n",
       "      <th>3</th>\n",
       "      <td>193</td>\n",
       "      <td>2020-01-01 00:06:13.8550</td>\n",
       "      <td>2020-01-01 00:09:27.8320</td>\n",
       "      <td>396</td>\n",
       "      <td>Main St at Beacon St</td>\n",
       "      <td>42.409330</td>\n",
       "      <td>-71.063819</td>\n",
       "      <td>387</td>\n",
       "      <td>Norman St at Kelvin St</td>\n",
       "      <td>42.409859</td>\n",
       "      <td>-71.066319</td>\n",
       "      <td>2692</td>\n",
       "      <td>Subscriber</td>\n",
       "      <td>1978.0</td>\n",
       "      <td>1.0</td>\n",
       "    </tr>\n",
       "    <tr>\n",
       "      <th>4</th>\n",
       "      <td>428</td>\n",
       "      <td>2020-01-01 00:07:25.2950</td>\n",
       "      <td>2020-01-01 00:14:33.7800</td>\n",
       "      <td>60</td>\n",
       "      <td>Charles Circle - Charles St at Cambridge St</td>\n",
       "      <td>42.360793</td>\n",
       "      <td>-71.071190</td>\n",
       "      <td>49</td>\n",
       "      <td>Stuart St at Charles St</td>\n",
       "      <td>42.351146</td>\n",
       "      <td>-71.066289</td>\n",
       "      <td>4978</td>\n",
       "      <td>Subscriber</td>\n",
       "      <td>1987.0</td>\n",
       "      <td>1.0</td>\n",
       "    </tr>\n",
       "  </tbody>\n",
       "</table>\n",
       "</div>"
      ],
      "text/plain": [
       "   tripduration                 starttime                  stoptime  \\\n",
       "0           478  2020-01-01 00:04:05.8090  2020-01-01 00:12:04.2370   \n",
       "1           363  2020-01-01 00:04:45.6990  2020-01-01 00:10:49.0400   \n",
       "2           284  2020-01-01 00:06:07.0630  2020-01-01 00:10:51.9240   \n",
       "3           193  2020-01-01 00:06:13.8550  2020-01-01 00:09:27.8320   \n",
       "4           428  2020-01-01 00:07:25.2950  2020-01-01 00:14:33.7800   \n",
       "\n",
       "   start station id                           start station name  \\\n",
       "0               366                              Broadway T Stop   \n",
       "1               219                  Boston East - 126 Border St   \n",
       "2               219                  Boston East - 126 Border St   \n",
       "3               396                         Main St at Beacon St   \n",
       "4                60  Charles Circle - Charles St at Cambridge St   \n",
       "\n",
       "   start station latitude  start station longitude  end station id  \\\n",
       "0               42.342781               -71.057473              93   \n",
       "1               42.373312               -71.041020             212   \n",
       "2               42.373312               -71.041020             212   \n",
       "3               42.409330               -71.063819             387   \n",
       "4               42.360793               -71.071190              49   \n",
       "\n",
       "               end station name  end station latitude  end station longitude  \\\n",
       "0              JFK/UMass T Stop             42.320340             -71.051180   \n",
       "1  Maverick Square - Lewis Mall             42.368844             -71.039778   \n",
       "2  Maverick Square - Lewis Mall             42.368844             -71.039778   \n",
       "3        Norman St at Kelvin St             42.409859             -71.066319   \n",
       "4       Stuart St at Charles St             42.351146             -71.066289   \n",
       "\n",
       "   bikeid    usertype  birth year  gender  \n",
       "0    6005    Customer      1969.0     0.0  \n",
       "1    3168  Subscriber      2000.0     1.0  \n",
       "2    3985  Subscriber      2001.0     1.0  \n",
       "3    2692  Subscriber      1978.0     1.0  \n",
       "4    4978  Subscriber      1987.0     1.0  "
      ]
     },
     "execution_count": 29,
     "metadata": {},
     "output_type": "execute_result"
    }
   ],
   "source": [
    "# need to convert birth year and gender datatypes from float64 to int64 for csv_merged_2020\n",
    "\n",
    "csv_merged_2020.head()"
   ]
  },
  {
   "cell_type": "code",
   "execution_count": 30,
   "id": "37513d80",
   "metadata": {},
   "outputs": [],
   "source": [
    "csv_merged_2020['birth year'] = csv_merged_2020['birth year'].fillna(0).astype(np.int64) # 0=unknown"
   ]
  },
  {
   "cell_type": "code",
   "execution_count": 31,
   "id": "fdf386c0",
   "metadata": {},
   "outputs": [],
   "source": [
    "csv_merged_2020['gender'] = csv_merged_2020['gender'].fillna(0).astype(np.int64)"
   ]
  },
  {
   "cell_type": "code",
   "execution_count": 32,
   "id": "b00d8f61",
   "metadata": {},
   "outputs": [
    {
     "data": {
      "text/plain": [
       "array([0, 1, 2], dtype=int64)"
      ]
     },
     "execution_count": 32,
     "metadata": {},
     "output_type": "execute_result"
    }
   ],
   "source": [
    "csv_merged_2020['gender'].unique() # 0=unknown; 1=male; 2=female"
   ]
  },
  {
   "cell_type": "code",
   "execution_count": 33,
   "id": "9a7d6988",
   "metadata": {},
   "outputs": [
    {
     "data": {
      "text/plain": [
       "tripduration               True\n",
       "starttime                  True\n",
       "stoptime                   True\n",
       "start station id           True\n",
       "start station name         True\n",
       "start station latitude     True\n",
       "start station longitude    True\n",
       "end station id             True\n",
       "end station name           True\n",
       "end station latitude       True\n",
       "end station longitude      True\n",
       "bikeid                     True\n",
       "usertype                   True\n",
       "birth year                 True\n",
       "gender                     True\n",
       "dtype: bool"
      ]
     },
     "execution_count": 33,
     "metadata": {},
     "output_type": "execute_result"
    }
   ],
   "source": [
    "# comparing datatypes again\n",
    "\n",
    "csv_merged_2019.dtypes == csv_merged_2020.dtypes"
   ]
  },
  {
   "cell_type": "code",
   "execution_count": 34,
   "id": "e1480808",
   "metadata": {},
   "outputs": [
    {
     "data": {
      "text/plain": [
       "\"\\nnow we've got two extra features 'birth year' and 'gender' which are present in only 2019 & 2020 data.\\nwe can extract their age from subtracting birth year from starttime year.\\n\\nLet's have a look at the starttime column for one.\\n\\n\""
      ]
     },
     "execution_count": 34,
     "metadata": {},
     "output_type": "execute_result"
    }
   ],
   "source": [
    "'''\n",
    "now we've got two extra features 'birth year' and 'gender' which are present in only 2019 & 2020 data.\n",
    "we can extract their age from subtracting birth year from starttime year.\n",
    "\n",
    "Let's have a look at the starttime column for one.\n",
    "\n",
    "'''"
   ]
  },
  {
   "cell_type": "code",
   "execution_count": 35,
   "id": "a8e82cdd",
   "metadata": {
    "scrolled": true
   },
   "outputs": [
    {
     "data": {
      "text/plain": [
       "0    2019-01-01 00:09:13.7980\n",
       "1    2019-01-01 00:33:56.1820\n",
       "2    2019-01-01 00:41:54.6000\n",
       "3    2019-01-01 00:43:32.5710\n",
       "4    2019-01-01 00:49:56.4640\n",
       "Name: starttime, dtype: object"
      ]
     },
     "execution_count": 35,
     "metadata": {},
     "output_type": "execute_result"
    }
   ],
   "source": [
    "'''\n",
    "\n",
    "we only need to split the string and get the year out of the value and then subtract it from birthyear\n",
    "if it's zero(0), we're not gonna change that.\n",
    "\n",
    "Note: We can use 2019 by default to use here but adding this functionality for redundancy if we use other data later.\n",
    "\n",
    "'''\n",
    "csv_merged_2019['starttime'].head()"
   ]
  },
  {
   "cell_type": "code",
   "execution_count": 36,
   "id": "3a96b56b",
   "metadata": {},
   "outputs": [
    {
     "data": {
      "text/plain": [
       "array([1987, 1990, 1977, 1993, 1979, 1969, 1991, 1989, 1973, 1992, 1988,\n",
       "       1972, 1998, 1997, 1994, 1982, 1995, 1984, 1956, 1966, 1986, 1946,\n",
       "       1958, 1999, 1965, 1981, 1980, 1985, 1962, 1959, 1976, 1983, 1975,\n",
       "       1974, 1978, 1964, 1963, 1960, 1967, 1953, 1955, 1961, 1947, 1996,\n",
       "       1957, 1968, 1971, 2000, 1954, 1952, 1950, 2001, 1970, 1948, 2002,\n",
       "       1951, 1949, 1943, 1942, 1941, 1944, 1945, 1929, 1937, 1888, 1939,\n",
       "       1932, 1923, 1907, 1940, 1904, 2003, 1935, 1886, 1901, 1900, 1933,\n",
       "       1938, 1936, 1889, 1915, 1917], dtype=int64)"
      ]
     },
     "execution_count": 36,
     "metadata": {},
     "output_type": "execute_result"
    }
   ],
   "source": [
    "csv_merged_2019['birth year'].unique()"
   ]
  },
  {
   "cell_type": "code",
   "execution_count": 37,
   "id": "15d4f1a7",
   "metadata": {},
   "outputs": [
    {
     "data": {
      "text/plain": [
       "array([1969, 2000, 2001, 1978, 1987, 1989, 1990, 1980, 1994, 1972, 1991,\n",
       "       1993, 1988, 1985, 1977, 1997, 1992, 1975, 1984, 1967, 1996, 1995,\n",
       "       1986, 1982, 1979, 1976, 1965, 1959, 1983, 1999, 1964, 1973, 1958,\n",
       "       1998, 1968, 1962, 1955, 1961, 1966, 1981, 1970, 1971, 1963, 1957,\n",
       "       1960, 1953, 1946, 1974, 1952, 1950, 1944, 1956, 2002, 1954, 1951,\n",
       "       1949, 1947, 1938, 1941, 1900, 1948, 2003, 1937, 1943, 1940, 1942,\n",
       "       1904, 1901, 1907, 2004, 1911, 1889, 1945, 1939, 1888, 1935, 1932,\n",
       "          0], dtype=int64)"
      ]
     },
     "execution_count": 37,
     "metadata": {},
     "output_type": "execute_result"
    }
   ],
   "source": [
    "csv_merged_2020['birth year'].unique()"
   ]
  },
  {
   "cell_type": "code",
   "execution_count": 38,
   "id": "936f98ba",
   "metadata": {},
   "outputs": [],
   "source": [
    "## calc -> csv_merged_2019['starttime'].str[:4].astype(np.int64) - csv_merged_2019['birth year']\n",
    "\n",
    "csv_merged_2019.loc[csv_merged_2019['birth year'] > 0, 'age'] = (csv_merged_2019['starttime'].str[:4].astype(np.int64) - csv_merged_2019['birth year'])\n",
    "\n",
    "csv_merged_2019['age'] = csv_merged_2019['age'].fillna(0).astype(np.int64)"
   ]
  },
  {
   "cell_type": "code",
   "execution_count": 39,
   "id": "d48ff623",
   "metadata": {},
   "outputs": [
    {
     "data": {
      "text/plain": [
       "array([ 32,  29,  42,  26,  40,  50,  28,  30,  46,  27,  31,  47,  21,\n",
       "        22,  25,  37,  24,  35,  63,  53,  33,  73,  61,  20,  54,  38,\n",
       "        39,  34,  57,  60,  43,  36,  44,  45,  41,  55,  56,  59,  52,\n",
       "        66,  64,  58,  72,  23,  62,  51,  48,  19,  65,  67,  69,  18,\n",
       "        49,  71,  17,  68,  70,  76,  77,  78,  75,  74,  90,  82, 131,\n",
       "        80,  87,  96, 112,  79, 115,  16,  84, 133, 118, 119,  86,  81,\n",
       "        83, 130, 104, 102], dtype=int64)"
      ]
     },
     "execution_count": 39,
     "metadata": {},
     "output_type": "execute_result"
    }
   ],
   "source": [
    "csv_merged_2019['age'].unique()"
   ]
  },
  {
   "cell_type": "code",
   "execution_count": 40,
   "id": "1f2074fd",
   "metadata": {},
   "outputs": [],
   "source": [
    "csv_merged_2020.loc[csv_merged_2020['birth year'] > 0, 'age'] = (csv_merged_2020['starttime'].str[:4].astype(np.int64) - csv_merged_2020['birth year'])\n",
    "\n",
    "csv_merged_2020['age'] = csv_merged_2020['age'].fillna(0).astype(np.int64)"
   ]
  },
  {
   "cell_type": "code",
   "execution_count": 41,
   "id": "fc9b0ac3",
   "metadata": {
    "scrolled": true
   },
   "outputs": [
    {
     "data": {
      "text/plain": [
       "array([ 32,  29,  42,  26,  40,  50,  28,  30,  46,  27,  31,  47,  21,\n",
       "        22,  25,  37,  24,  35,  63,  53,  33,  73,  61,  20,  54,  38,\n",
       "        39,  34,  57,  60,  43,  36,  44,  45,  41,  55,  56,  59,  52,\n",
       "        66,  64,  58,  72,  23,  62,  51,  48,  19,  65,  67,  69,  18,\n",
       "        49,  71,  17,  68,  70,  76,  77,  78,  75,  74,  90,  82, 131,\n",
       "        80,  87,  96, 112,  79, 115,  16,  84, 133, 118, 119,  86,  81,\n",
       "        83, 130, 104, 102], dtype=int64)"
      ]
     },
     "execution_count": 41,
     "metadata": {},
     "output_type": "execute_result"
    }
   ],
   "source": [
    "csv_merged_2019['age'].unique()"
   ]
  },
  {
   "cell_type": "code",
   "execution_count": 42,
   "id": "671c2323",
   "metadata": {},
   "outputs": [],
   "source": [
    "# dropping birth year\n",
    "\n",
    "frames = [csv_merged_2019, csv_merged_2020]\n",
    "\n",
    "for x in (frames):\n",
    "    x = x.drop('birth year', axis = 1, inplace = True)"
   ]
  },
  {
   "cell_type": "code",
   "execution_count": 43,
   "id": "ebf73960",
   "metadata": {},
   "outputs": [
    {
     "data": {
      "text/plain": [
       "tripduration               True\n",
       "starttime                  True\n",
       "stoptime                   True\n",
       "start station id           True\n",
       "start station name         True\n",
       "start station latitude     True\n",
       "start station longitude    True\n",
       "end station id             True\n",
       "end station name           True\n",
       "end station latitude       True\n",
       "end station longitude      True\n",
       "bikeid                     True\n",
       "usertype                   True\n",
       "gender                     True\n",
       "age                        True\n",
       "dtype: bool"
      ]
     },
     "execution_count": 43,
     "metadata": {},
     "output_type": "execute_result"
    }
   ],
   "source": [
    "# comparing datatypes again\n",
    "\n",
    "csv_merged_2019.dtypes == csv_merged_2020.dtypes"
   ]
  },
  {
   "cell_type": "code",
   "execution_count": 44,
   "id": "b07202e2",
   "metadata": {},
   "outputs": [],
   "source": [
    "# we need to fill 2021 & 2022 dfs with 0 for 'gender' and 'age' with 0\n",
    "\n",
    "csv_merged_2021['gender'] = 0\n",
    "csv_merged_2021['age'] = 0\n",
    "\n",
    "csv_merged_2022['gender'] = 0\n",
    "csv_merged_2022['age'] = 0"
   ]
  },
  {
   "cell_type": "code",
   "execution_count": 45,
   "id": "621683f8",
   "metadata": {},
   "outputs": [
    {
     "data": {
      "text/html": [
       "<div>\n",
       "<style scoped>\n",
       "    .dataframe tbody tr th:only-of-type {\n",
       "        vertical-align: middle;\n",
       "    }\n",
       "\n",
       "    .dataframe tbody tr th {\n",
       "        vertical-align: top;\n",
       "    }\n",
       "\n",
       "    .dataframe thead th {\n",
       "        text-align: right;\n",
       "    }\n",
       "</style>\n",
       "<table border=\"1\" class=\"dataframe\">\n",
       "  <thead>\n",
       "    <tr style=\"text-align: right;\">\n",
       "      <th></th>\n",
       "      <th>tripduration</th>\n",
       "      <th>starttime</th>\n",
       "      <th>stoptime</th>\n",
       "      <th>start station id</th>\n",
       "      <th>start station name</th>\n",
       "      <th>start station latitude</th>\n",
       "      <th>start station longitude</th>\n",
       "      <th>end station id</th>\n",
       "      <th>end station name</th>\n",
       "      <th>end station latitude</th>\n",
       "      <th>end station longitude</th>\n",
       "      <th>bikeid</th>\n",
       "      <th>usertype</th>\n",
       "      <th>gender</th>\n",
       "      <th>age</th>\n",
       "    </tr>\n",
       "  </thead>\n",
       "  <tbody>\n",
       "    <tr>\n",
       "      <th>0</th>\n",
       "      <td>597</td>\n",
       "      <td>2022-01-01 00:00:25.1660</td>\n",
       "      <td>2022-01-01 00:10:22.1920</td>\n",
       "      <td>178</td>\n",
       "      <td>MIT Pacific St at Purrington St</td>\n",
       "      <td>42.359573</td>\n",
       "      <td>-71.101295</td>\n",
       "      <td>74</td>\n",
       "      <td>Harvard Square at Mass Ave/ Dunster</td>\n",
       "      <td>42.373268</td>\n",
       "      <td>-71.118579</td>\n",
       "      <td>4923</td>\n",
       "      <td>Subscriber</td>\n",
       "      <td>0</td>\n",
       "      <td>0</td>\n",
       "    </tr>\n",
       "    <tr>\n",
       "      <th>1</th>\n",
       "      <td>411</td>\n",
       "      <td>2022-01-01 00:00:40.4300</td>\n",
       "      <td>2022-01-01 00:07:32.1980</td>\n",
       "      <td>189</td>\n",
       "      <td>Kendall T</td>\n",
       "      <td>42.362428</td>\n",
       "      <td>-71.084955</td>\n",
       "      <td>178</td>\n",
       "      <td>MIT Pacific St at Purrington St</td>\n",
       "      <td>42.359573</td>\n",
       "      <td>-71.101295</td>\n",
       "      <td>3112</td>\n",
       "      <td>Subscriber</td>\n",
       "      <td>0</td>\n",
       "      <td>0</td>\n",
       "    </tr>\n",
       "  </tbody>\n",
       "</table>\n",
       "</div>"
      ],
      "text/plain": [
       "   tripduration                 starttime                  stoptime  \\\n",
       "0           597  2022-01-01 00:00:25.1660  2022-01-01 00:10:22.1920   \n",
       "1           411  2022-01-01 00:00:40.4300  2022-01-01 00:07:32.1980   \n",
       "\n",
       "   start station id               start station name  start station latitude  \\\n",
       "0               178  MIT Pacific St at Purrington St               42.359573   \n",
       "1               189                        Kendall T               42.362428   \n",
       "\n",
       "   start station longitude  end station id  \\\n",
       "0               -71.101295              74   \n",
       "1               -71.084955             178   \n",
       "\n",
       "                      end station name  end station latitude  \\\n",
       "0  Harvard Square at Mass Ave/ Dunster             42.373268   \n",
       "1      MIT Pacific St at Purrington St             42.359573   \n",
       "\n",
       "   end station longitude  bikeid    usertype  gender  age  \n",
       "0             -71.118579    4923  Subscriber       0    0  \n",
       "1             -71.101295    3112  Subscriber       0    0  "
      ]
     },
     "execution_count": 45,
     "metadata": {},
     "output_type": "execute_result"
    }
   ],
   "source": [
    "csv_merged_2022.head(2)"
   ]
  },
  {
   "cell_type": "code",
   "execution_count": 46,
   "id": "41987234",
   "metadata": {},
   "outputs": [
    {
     "data": {
      "text/plain": [
       "tripduration               True\n",
       "starttime                  True\n",
       "stoptime                   True\n",
       "start station id           True\n",
       "start station name         True\n",
       "start station latitude     True\n",
       "start station longitude    True\n",
       "end station id             True\n",
       "end station name           True\n",
       "end station latitude       True\n",
       "end station longitude      True\n",
       "bikeid                     True\n",
       "usertype                   True\n",
       "gender                     True\n",
       "age                        True\n",
       "dtype: bool"
      ]
     },
     "execution_count": 46,
     "metadata": {},
     "output_type": "execute_result"
    }
   ],
   "source": [
    "csv_merged_2021.dtypes == csv_merged_2022.dtypes"
   ]
  },
  {
   "cell_type": "code",
   "execution_count": 47,
   "id": "7ed5b323",
   "metadata": {},
   "outputs": [
    {
     "data": {
      "text/plain": [
       "tripduration               True\n",
       "starttime                  True\n",
       "stoptime                   True\n",
       "start station id           True\n",
       "start station name         True\n",
       "start station latitude     True\n",
       "start station longitude    True\n",
       "end station id             True\n",
       "end station name           True\n",
       "end station latitude       True\n",
       "end station longitude      True\n",
       "bikeid                     True\n",
       "usertype                   True\n",
       "gender                     True\n",
       "age                        True\n",
       "dtype: bool"
      ]
     },
     "execution_count": 47,
     "metadata": {},
     "output_type": "execute_result"
    }
   ],
   "source": [
    "csv_merged_2022.dtypes == csv_merged_2019.dtypes"
   ]
  },
  {
   "cell_type": "code",
   "execution_count": 48,
   "id": "51fe3ce1",
   "metadata": {},
   "outputs": [],
   "source": [
    "# since they all seem fine, combining all the frames\n",
    "\n",
    "frames = [csv_merged_2019, csv_merged_2020, csv_merged_2021, csv_merged_2022]\n",
    "trips_data = pd.concat(frames)"
   ]
  },
  {
   "cell_type": "code",
   "execution_count": 49,
   "id": "75d1adaa",
   "metadata": {},
   "outputs": [],
   "source": [
    "# deleting unused dfs\n",
    "del [[csv_merged_2019, csv_merged_2020, csv_merged_2021, csv_merged_2022]]"
   ]
  },
  {
   "cell_type": "code",
   "execution_count": 50,
   "id": "00392ea4",
   "metadata": {},
   "outputs": [
    {
     "data": {
      "text/plain": [
       "(11144966, 15)"
      ]
     },
     "execution_count": 50,
     "metadata": {},
     "output_type": "execute_result"
    }
   ],
   "source": [
    "trips_data.shape"
   ]
  },
  {
   "cell_type": "code",
   "execution_count": 51,
   "id": "c729ae68",
   "metadata": {},
   "outputs": [
    {
     "data": {
      "text/html": [
       "<div>\n",
       "<style scoped>\n",
       "    .dataframe tbody tr th:only-of-type {\n",
       "        vertical-align: middle;\n",
       "    }\n",
       "\n",
       "    .dataframe tbody tr th {\n",
       "        vertical-align: top;\n",
       "    }\n",
       "\n",
       "    .dataframe thead th {\n",
       "        text-align: right;\n",
       "    }\n",
       "</style>\n",
       "<table border=\"1\" class=\"dataframe\">\n",
       "  <thead>\n",
       "    <tr style=\"text-align: right;\">\n",
       "      <th></th>\n",
       "      <th>tripduration</th>\n",
       "      <th>starttime</th>\n",
       "      <th>stoptime</th>\n",
       "      <th>start station id</th>\n",
       "      <th>start station name</th>\n",
       "      <th>start station latitude</th>\n",
       "      <th>start station longitude</th>\n",
       "      <th>end station id</th>\n",
       "      <th>end station name</th>\n",
       "      <th>end station latitude</th>\n",
       "      <th>end station longitude</th>\n",
       "      <th>bikeid</th>\n",
       "      <th>usertype</th>\n",
       "      <th>gender</th>\n",
       "      <th>age</th>\n",
       "    </tr>\n",
       "  </thead>\n",
       "  <tbody>\n",
       "    <tr>\n",
       "      <th>0</th>\n",
       "      <td>371</td>\n",
       "      <td>2019-01-01 00:09:13.7980</td>\n",
       "      <td>2019-01-01 00:15:25.3360</td>\n",
       "      <td>80</td>\n",
       "      <td>MIT Stata Center at Vassar St / Main St</td>\n",
       "      <td>42.362131</td>\n",
       "      <td>-71.091156</td>\n",
       "      <td>179</td>\n",
       "      <td>MIT Vassar St</td>\n",
       "      <td>42.355601</td>\n",
       "      <td>-71.103945</td>\n",
       "      <td>3689</td>\n",
       "      <td>Subscriber</td>\n",
       "      <td>1</td>\n",
       "      <td>32</td>\n",
       "    </tr>\n",
       "    <tr>\n",
       "      <th>1</th>\n",
       "      <td>264</td>\n",
       "      <td>2019-01-01 00:33:56.1820</td>\n",
       "      <td>2019-01-01 00:38:20.8800</td>\n",
       "      <td>117</td>\n",
       "      <td>Binney St / Sixth St</td>\n",
       "      <td>42.366162</td>\n",
       "      <td>-71.086883</td>\n",
       "      <td>189</td>\n",
       "      <td>Kendall T</td>\n",
       "      <td>42.362428</td>\n",
       "      <td>-71.084955</td>\n",
       "      <td>4142</td>\n",
       "      <td>Subscriber</td>\n",
       "      <td>1</td>\n",
       "      <td>29</td>\n",
       "    </tr>\n",
       "    <tr>\n",
       "      <th>2</th>\n",
       "      <td>458</td>\n",
       "      <td>2019-01-01 00:41:54.6000</td>\n",
       "      <td>2019-01-01 00:49:33.2730</td>\n",
       "      <td>68</td>\n",
       "      <td>Central Square at Mass Ave / Essex St</td>\n",
       "      <td>42.365070</td>\n",
       "      <td>-71.103100</td>\n",
       "      <td>96</td>\n",
       "      <td>Cambridge Main Library at Broadway / Trowbridg...</td>\n",
       "      <td>42.373379</td>\n",
       "      <td>-71.111075</td>\n",
       "      <td>1628</td>\n",
       "      <td>Subscriber</td>\n",
       "      <td>1</td>\n",
       "      <td>42</td>\n",
       "    </tr>\n",
       "    <tr>\n",
       "      <th>3</th>\n",
       "      <td>364</td>\n",
       "      <td>2019-01-01 00:43:32.5710</td>\n",
       "      <td>2019-01-01 00:49:37.4260</td>\n",
       "      <td>89</td>\n",
       "      <td>Harvard Law School at Mass Ave / Jarvis St</td>\n",
       "      <td>42.379011</td>\n",
       "      <td>-71.119945</td>\n",
       "      <td>334</td>\n",
       "      <td>Mass Ave at Hadley/Walden</td>\n",
       "      <td>42.391210</td>\n",
       "      <td>-71.122608</td>\n",
       "      <td>2969</td>\n",
       "      <td>Subscriber</td>\n",
       "      <td>1</td>\n",
       "      <td>26</td>\n",
       "    </tr>\n",
       "    <tr>\n",
       "      <th>4</th>\n",
       "      <td>681</td>\n",
       "      <td>2019-01-01 00:49:56.4640</td>\n",
       "      <td>2019-01-01 01:01:17.7010</td>\n",
       "      <td>73</td>\n",
       "      <td>Harvard Square at Brattle St / Eliot St</td>\n",
       "      <td>42.373231</td>\n",
       "      <td>-71.120886</td>\n",
       "      <td>367</td>\n",
       "      <td>Vassal Lane at Tobin/VLUS</td>\n",
       "      <td>42.383932</td>\n",
       "      <td>-71.139613</td>\n",
       "      <td>3469</td>\n",
       "      <td>Subscriber</td>\n",
       "      <td>2</td>\n",
       "      <td>40</td>\n",
       "    </tr>\n",
       "  </tbody>\n",
       "</table>\n",
       "</div>"
      ],
      "text/plain": [
       "   tripduration                 starttime                  stoptime  \\\n",
       "0           371  2019-01-01 00:09:13.7980  2019-01-01 00:15:25.3360   \n",
       "1           264  2019-01-01 00:33:56.1820  2019-01-01 00:38:20.8800   \n",
       "2           458  2019-01-01 00:41:54.6000  2019-01-01 00:49:33.2730   \n",
       "3           364  2019-01-01 00:43:32.5710  2019-01-01 00:49:37.4260   \n",
       "4           681  2019-01-01 00:49:56.4640  2019-01-01 01:01:17.7010   \n",
       "\n",
       "   start station id                          start station name  \\\n",
       "0                80     MIT Stata Center at Vassar St / Main St   \n",
       "1               117                        Binney St / Sixth St   \n",
       "2                68       Central Square at Mass Ave / Essex St   \n",
       "3                89  Harvard Law School at Mass Ave / Jarvis St   \n",
       "4                73     Harvard Square at Brattle St / Eliot St   \n",
       "\n",
       "   start station latitude  start station longitude  end station id  \\\n",
       "0               42.362131               -71.091156             179   \n",
       "1               42.366162               -71.086883             189   \n",
       "2               42.365070               -71.103100              96   \n",
       "3               42.379011               -71.119945             334   \n",
       "4               42.373231               -71.120886             367   \n",
       "\n",
       "                                    end station name  end station latitude  \\\n",
       "0                                      MIT Vassar St             42.355601   \n",
       "1                                          Kendall T             42.362428   \n",
       "2  Cambridge Main Library at Broadway / Trowbridg...             42.373379   \n",
       "3                          Mass Ave at Hadley/Walden             42.391210   \n",
       "4                          Vassal Lane at Tobin/VLUS             42.383932   \n",
       "\n",
       "   end station longitude  bikeid    usertype  gender  age  \n",
       "0             -71.103945    3689  Subscriber       1   32  \n",
       "1             -71.084955    4142  Subscriber       1   29  \n",
       "2             -71.111075    1628  Subscriber       1   42  \n",
       "3             -71.122608    2969  Subscriber       1   26  \n",
       "4             -71.139613    3469  Subscriber       2   40  "
      ]
     },
     "execution_count": 51,
     "metadata": {},
     "output_type": "execute_result"
    }
   ],
   "source": [
    "trips_data.head()"
   ]
  },
  {
   "cell_type": "code",
   "execution_count": 52,
   "id": "49d8f08b",
   "metadata": {},
   "outputs": [],
   "source": [
    "# creating the station data for removing extra cols from tripdata\n",
    "\n",
    "stations_st = trips_data[['start station id', 'start station name', 'start station latitude', 'start station longitude']]\n",
    "stations_en = trips_data[['end station id', 'end station name', 'end station latitude', 'end station longitude']]"
   ]
  },
  {
   "cell_type": "code",
   "execution_count": 53,
   "id": "cb5fa4de",
   "metadata": {},
   "outputs": [
    {
     "name": "stderr",
     "output_type": "stream",
     "text": [
      "C:\\Users\\rick\\AppData\\Local\\Temp\\ipykernel_8480\\1865634743.py:3: SettingWithCopyWarning: \n",
      "A value is trying to be set on a copy of a slice from a DataFrame\n",
      "\n",
      "See the caveats in the documentation: https://pandas.pydata.org/pandas-docs/stable/user_guide/indexing.html#returning-a-view-versus-a-copy\n",
      "  stations_st.rename(columns = {'start station id' : 'id',\n"
     ]
    },
    {
     "data": {
      "text/html": [
       "<div>\n",
       "<style scoped>\n",
       "    .dataframe tbody tr th:only-of-type {\n",
       "        vertical-align: middle;\n",
       "    }\n",
       "\n",
       "    .dataframe tbody tr th {\n",
       "        vertical-align: top;\n",
       "    }\n",
       "\n",
       "    .dataframe thead th {\n",
       "        text-align: right;\n",
       "    }\n",
       "</style>\n",
       "<table border=\"1\" class=\"dataframe\">\n",
       "  <thead>\n",
       "    <tr style=\"text-align: right;\">\n",
       "      <th></th>\n",
       "      <th>id</th>\n",
       "      <th>name</th>\n",
       "      <th>lat</th>\n",
       "      <th>long</th>\n",
       "    </tr>\n",
       "  </thead>\n",
       "  <tbody>\n",
       "    <tr>\n",
       "      <th>0</th>\n",
       "      <td>80</td>\n",
       "      <td>MIT Stata Center at Vassar St / Main St</td>\n",
       "      <td>42.362131</td>\n",
       "      <td>-71.091156</td>\n",
       "    </tr>\n",
       "    <tr>\n",
       "      <th>1</th>\n",
       "      <td>117</td>\n",
       "      <td>Binney St / Sixth St</td>\n",
       "      <td>42.366162</td>\n",
       "      <td>-71.086883</td>\n",
       "    </tr>\n",
       "    <tr>\n",
       "      <th>2</th>\n",
       "      <td>68</td>\n",
       "      <td>Central Square at Mass Ave / Essex St</td>\n",
       "      <td>42.365070</td>\n",
       "      <td>-71.103100</td>\n",
       "    </tr>\n",
       "    <tr>\n",
       "      <th>3</th>\n",
       "      <td>89</td>\n",
       "      <td>Harvard Law School at Mass Ave / Jarvis St</td>\n",
       "      <td>42.379011</td>\n",
       "      <td>-71.119945</td>\n",
       "    </tr>\n",
       "    <tr>\n",
       "      <th>4</th>\n",
       "      <td>73</td>\n",
       "      <td>Harvard Square at Brattle St / Eliot St</td>\n",
       "      <td>42.373231</td>\n",
       "      <td>-71.120886</td>\n",
       "    </tr>\n",
       "  </tbody>\n",
       "</table>\n",
       "</div>"
      ],
      "text/plain": [
       "    id                                        name        lat       long\n",
       "0   80     MIT Stata Center at Vassar St / Main St  42.362131 -71.091156\n",
       "1  117                        Binney St / Sixth St  42.366162 -71.086883\n",
       "2   68       Central Square at Mass Ave / Essex St  42.365070 -71.103100\n",
       "3   89  Harvard Law School at Mass Ave / Jarvis St  42.379011 -71.119945\n",
       "4   73     Harvard Square at Brattle St / Eliot St  42.373231 -71.120886"
      ]
     },
     "execution_count": 53,
     "metadata": {},
     "output_type": "execute_result"
    }
   ],
   "source": [
    "# renaming cols\n",
    "\n",
    "stations_st.rename(columns = {'start station id' : 'id',\n",
    "                              'start station name' : 'name',\n",
    "                              'start station latitude' : 'lat',\n",
    "                              'start station longitude' : 'long'}, inplace = True)\n",
    "stations_st.head()"
   ]
  },
  {
   "cell_type": "code",
   "execution_count": 54,
   "id": "74702e9f",
   "metadata": {},
   "outputs": [
    {
     "name": "stderr",
     "output_type": "stream",
     "text": [
      "C:\\Users\\rick\\AppData\\Local\\Temp\\ipykernel_8480\\676655496.py:3: SettingWithCopyWarning: \n",
      "A value is trying to be set on a copy of a slice from a DataFrame\n",
      "\n",
      "See the caveats in the documentation: https://pandas.pydata.org/pandas-docs/stable/user_guide/indexing.html#returning-a-view-versus-a-copy\n",
      "  stations_en.rename(columns = {'end station id' : 'id',\n"
     ]
    },
    {
     "data": {
      "text/html": [
       "<div>\n",
       "<style scoped>\n",
       "    .dataframe tbody tr th:only-of-type {\n",
       "        vertical-align: middle;\n",
       "    }\n",
       "\n",
       "    .dataframe tbody tr th {\n",
       "        vertical-align: top;\n",
       "    }\n",
       "\n",
       "    .dataframe thead th {\n",
       "        text-align: right;\n",
       "    }\n",
       "</style>\n",
       "<table border=\"1\" class=\"dataframe\">\n",
       "  <thead>\n",
       "    <tr style=\"text-align: right;\">\n",
       "      <th></th>\n",
       "      <th>id</th>\n",
       "      <th>name</th>\n",
       "      <th>lat</th>\n",
       "      <th>long</th>\n",
       "    </tr>\n",
       "  </thead>\n",
       "  <tbody>\n",
       "    <tr>\n",
       "      <th>0</th>\n",
       "      <td>179</td>\n",
       "      <td>MIT Vassar St</td>\n",
       "      <td>42.355601</td>\n",
       "      <td>-71.103945</td>\n",
       "    </tr>\n",
       "    <tr>\n",
       "      <th>1</th>\n",
       "      <td>189</td>\n",
       "      <td>Kendall T</td>\n",
       "      <td>42.362428</td>\n",
       "      <td>-71.084955</td>\n",
       "    </tr>\n",
       "    <tr>\n",
       "      <th>2</th>\n",
       "      <td>96</td>\n",
       "      <td>Cambridge Main Library at Broadway / Trowbridg...</td>\n",
       "      <td>42.373379</td>\n",
       "      <td>-71.111075</td>\n",
       "    </tr>\n",
       "    <tr>\n",
       "      <th>3</th>\n",
       "      <td>334</td>\n",
       "      <td>Mass Ave at Hadley/Walden</td>\n",
       "      <td>42.391210</td>\n",
       "      <td>-71.122608</td>\n",
       "    </tr>\n",
       "    <tr>\n",
       "      <th>4</th>\n",
       "      <td>367</td>\n",
       "      <td>Vassal Lane at Tobin/VLUS</td>\n",
       "      <td>42.383932</td>\n",
       "      <td>-71.139613</td>\n",
       "    </tr>\n",
       "  </tbody>\n",
       "</table>\n",
       "</div>"
      ],
      "text/plain": [
       "    id                                               name        lat  \\\n",
       "0  179                                      MIT Vassar St  42.355601   \n",
       "1  189                                          Kendall T  42.362428   \n",
       "2   96  Cambridge Main Library at Broadway / Trowbridg...  42.373379   \n",
       "3  334                          Mass Ave at Hadley/Walden  42.391210   \n",
       "4  367                          Vassal Lane at Tobin/VLUS  42.383932   \n",
       "\n",
       "        long  \n",
       "0 -71.103945  \n",
       "1 -71.084955  \n",
       "2 -71.111075  \n",
       "3 -71.122608  \n",
       "4 -71.139613  "
      ]
     },
     "execution_count": 54,
     "metadata": {},
     "output_type": "execute_result"
    }
   ],
   "source": [
    "# renaming cols\n",
    "\n",
    "stations_en.rename(columns = {'end station id' : 'id',\n",
    "                              'end station name' : 'name',\n",
    "                              'end station latitude' : 'lat',\n",
    "                              'end station longitude' : 'long'}, inplace = True)\n",
    "stations_en.head()"
   ]
  },
  {
   "cell_type": "code",
   "execution_count": 55,
   "id": "1951a485",
   "metadata": {},
   "outputs": [],
   "source": [
    "frames2 = [stations_st, stations_en]\n",
    "result2 = pd.concat(frames2)"
   ]
  },
  {
   "cell_type": "code",
   "execution_count": 56,
   "id": "23229321",
   "metadata": {},
   "outputs": [
    {
     "data": {
      "text/plain": [
       "(22289932, 4)"
      ]
     },
     "execution_count": 56,
     "metadata": {},
     "output_type": "execute_result"
    }
   ],
   "source": [
    "# all station data\n",
    "\n",
    "result2.shape"
   ]
  },
  {
   "cell_type": "code",
   "execution_count": 57,
   "id": "a69a24ea",
   "metadata": {},
   "outputs": [],
   "source": [
    "# removing duplicates\n",
    "\n",
    "stations = result2.drop_duplicates()"
   ]
  },
  {
   "cell_type": "code",
   "execution_count": 58,
   "id": "ddb1de9a",
   "metadata": {},
   "outputs": [
    {
     "data": {
      "text/plain": [
       "(620, 4)"
      ]
     },
     "execution_count": 58,
     "metadata": {},
     "output_type": "execute_result"
    }
   ],
   "source": [
    "stations.shape"
   ]
  },
  {
   "cell_type": "code",
   "execution_count": 59,
   "id": "4fc30a24",
   "metadata": {
    "scrolled": true
   },
   "outputs": [
    {
     "data": {
      "text/html": [
       "<div>\n",
       "<style scoped>\n",
       "    .dataframe tbody tr th:only-of-type {\n",
       "        vertical-align: middle;\n",
       "    }\n",
       "\n",
       "    .dataframe tbody tr th {\n",
       "        vertical-align: top;\n",
       "    }\n",
       "\n",
       "    .dataframe thead th {\n",
       "        text-align: right;\n",
       "    }\n",
       "</style>\n",
       "<table border=\"1\" class=\"dataframe\">\n",
       "  <thead>\n",
       "    <tr style=\"text-align: right;\">\n",
       "      <th></th>\n",
       "      <th>id</th>\n",
       "      <th>name</th>\n",
       "      <th>lat</th>\n",
       "      <th>long</th>\n",
       "    </tr>\n",
       "  </thead>\n",
       "  <tbody>\n",
       "    <tr>\n",
       "      <th>0</th>\n",
       "      <td>80</td>\n",
       "      <td>MIT Stata Center at Vassar St / Main St</td>\n",
       "      <td>42.362131</td>\n",
       "      <td>-71.091156</td>\n",
       "    </tr>\n",
       "    <tr>\n",
       "      <th>1</th>\n",
       "      <td>117</td>\n",
       "      <td>Binney St / Sixth St</td>\n",
       "      <td>42.366162</td>\n",
       "      <td>-71.086883</td>\n",
       "    </tr>\n",
       "    <tr>\n",
       "      <th>2</th>\n",
       "      <td>68</td>\n",
       "      <td>Central Square at Mass Ave / Essex St</td>\n",
       "      <td>42.365070</td>\n",
       "      <td>-71.103100</td>\n",
       "    </tr>\n",
       "    <tr>\n",
       "      <th>3</th>\n",
       "      <td>89</td>\n",
       "      <td>Harvard Law School at Mass Ave / Jarvis St</td>\n",
       "      <td>42.379011</td>\n",
       "      <td>-71.119945</td>\n",
       "    </tr>\n",
       "    <tr>\n",
       "      <th>4</th>\n",
       "      <td>73</td>\n",
       "      <td>Harvard Square at Brattle St / Eliot St</td>\n",
       "      <td>42.373231</td>\n",
       "      <td>-71.120886</td>\n",
       "    </tr>\n",
       "  </tbody>\n",
       "</table>\n",
       "</div>"
      ],
      "text/plain": [
       "    id                                        name        lat       long\n",
       "0   80     MIT Stata Center at Vassar St / Main St  42.362131 -71.091156\n",
       "1  117                        Binney St / Sixth St  42.366162 -71.086883\n",
       "2   68       Central Square at Mass Ave / Essex St  42.365070 -71.103100\n",
       "3   89  Harvard Law School at Mass Ave / Jarvis St  42.379011 -71.119945\n",
       "4   73     Harvard Square at Brattle St / Eliot St  42.373231 -71.120886"
      ]
     },
     "execution_count": 59,
     "metadata": {},
     "output_type": "execute_result"
    }
   ],
   "source": [
    "stations.head()"
   ]
  },
  {
   "cell_type": "code",
   "execution_count": 60,
   "id": "b0a6e9e6",
   "metadata": {},
   "outputs": [
    {
     "data": {
      "text/html": [
       "<div>\n",
       "<style scoped>\n",
       "    .dataframe tbody tr th:only-of-type {\n",
       "        vertical-align: middle;\n",
       "    }\n",
       "\n",
       "    .dataframe tbody tr th {\n",
       "        vertical-align: top;\n",
       "    }\n",
       "\n",
       "    .dataframe thead th {\n",
       "        text-align: right;\n",
       "    }\n",
       "</style>\n",
       "<table border=\"1\" class=\"dataframe\">\n",
       "  <thead>\n",
       "    <tr style=\"text-align: right;\">\n",
       "      <th></th>\n",
       "      <th>tripduration</th>\n",
       "      <th>starttime</th>\n",
       "      <th>stoptime</th>\n",
       "      <th>start station id</th>\n",
       "      <th>start station name</th>\n",
       "      <th>start station latitude</th>\n",
       "      <th>start station longitude</th>\n",
       "      <th>end station id</th>\n",
       "      <th>end station name</th>\n",
       "      <th>end station latitude</th>\n",
       "      <th>end station longitude</th>\n",
       "      <th>bikeid</th>\n",
       "      <th>usertype</th>\n",
       "      <th>gender</th>\n",
       "      <th>age</th>\n",
       "    </tr>\n",
       "  </thead>\n",
       "  <tbody>\n",
       "    <tr>\n",
       "      <th>0</th>\n",
       "      <td>371</td>\n",
       "      <td>2019-01-01 00:09:13.7980</td>\n",
       "      <td>2019-01-01 00:15:25.3360</td>\n",
       "      <td>80</td>\n",
       "      <td>MIT Stata Center at Vassar St / Main St</td>\n",
       "      <td>42.362131</td>\n",
       "      <td>-71.091156</td>\n",
       "      <td>179</td>\n",
       "      <td>MIT Vassar St</td>\n",
       "      <td>42.355601</td>\n",
       "      <td>-71.103945</td>\n",
       "      <td>3689</td>\n",
       "      <td>Subscriber</td>\n",
       "      <td>1</td>\n",
       "      <td>32</td>\n",
       "    </tr>\n",
       "    <tr>\n",
       "      <th>1</th>\n",
       "      <td>264</td>\n",
       "      <td>2019-01-01 00:33:56.1820</td>\n",
       "      <td>2019-01-01 00:38:20.8800</td>\n",
       "      <td>117</td>\n",
       "      <td>Binney St / Sixth St</td>\n",
       "      <td>42.366162</td>\n",
       "      <td>-71.086883</td>\n",
       "      <td>189</td>\n",
       "      <td>Kendall T</td>\n",
       "      <td>42.362428</td>\n",
       "      <td>-71.084955</td>\n",
       "      <td>4142</td>\n",
       "      <td>Subscriber</td>\n",
       "      <td>1</td>\n",
       "      <td>29</td>\n",
       "    </tr>\n",
       "    <tr>\n",
       "      <th>2</th>\n",
       "      <td>458</td>\n",
       "      <td>2019-01-01 00:41:54.6000</td>\n",
       "      <td>2019-01-01 00:49:33.2730</td>\n",
       "      <td>68</td>\n",
       "      <td>Central Square at Mass Ave / Essex St</td>\n",
       "      <td>42.365070</td>\n",
       "      <td>-71.103100</td>\n",
       "      <td>96</td>\n",
       "      <td>Cambridge Main Library at Broadway / Trowbridg...</td>\n",
       "      <td>42.373379</td>\n",
       "      <td>-71.111075</td>\n",
       "      <td>1628</td>\n",
       "      <td>Subscriber</td>\n",
       "      <td>1</td>\n",
       "      <td>42</td>\n",
       "    </tr>\n",
       "    <tr>\n",
       "      <th>3</th>\n",
       "      <td>364</td>\n",
       "      <td>2019-01-01 00:43:32.5710</td>\n",
       "      <td>2019-01-01 00:49:37.4260</td>\n",
       "      <td>89</td>\n",
       "      <td>Harvard Law School at Mass Ave / Jarvis St</td>\n",
       "      <td>42.379011</td>\n",
       "      <td>-71.119945</td>\n",
       "      <td>334</td>\n",
       "      <td>Mass Ave at Hadley/Walden</td>\n",
       "      <td>42.391210</td>\n",
       "      <td>-71.122608</td>\n",
       "      <td>2969</td>\n",
       "      <td>Subscriber</td>\n",
       "      <td>1</td>\n",
       "      <td>26</td>\n",
       "    </tr>\n",
       "    <tr>\n",
       "      <th>4</th>\n",
       "      <td>681</td>\n",
       "      <td>2019-01-01 00:49:56.4640</td>\n",
       "      <td>2019-01-01 01:01:17.7010</td>\n",
       "      <td>73</td>\n",
       "      <td>Harvard Square at Brattle St / Eliot St</td>\n",
       "      <td>42.373231</td>\n",
       "      <td>-71.120886</td>\n",
       "      <td>367</td>\n",
       "      <td>Vassal Lane at Tobin/VLUS</td>\n",
       "      <td>42.383932</td>\n",
       "      <td>-71.139613</td>\n",
       "      <td>3469</td>\n",
       "      <td>Subscriber</td>\n",
       "      <td>2</td>\n",
       "      <td>40</td>\n",
       "    </tr>\n",
       "  </tbody>\n",
       "</table>\n",
       "</div>"
      ],
      "text/plain": [
       "   tripduration                 starttime                  stoptime  \\\n",
       "0           371  2019-01-01 00:09:13.7980  2019-01-01 00:15:25.3360   \n",
       "1           264  2019-01-01 00:33:56.1820  2019-01-01 00:38:20.8800   \n",
       "2           458  2019-01-01 00:41:54.6000  2019-01-01 00:49:33.2730   \n",
       "3           364  2019-01-01 00:43:32.5710  2019-01-01 00:49:37.4260   \n",
       "4           681  2019-01-01 00:49:56.4640  2019-01-01 01:01:17.7010   \n",
       "\n",
       "   start station id                          start station name  \\\n",
       "0                80     MIT Stata Center at Vassar St / Main St   \n",
       "1               117                        Binney St / Sixth St   \n",
       "2                68       Central Square at Mass Ave / Essex St   \n",
       "3                89  Harvard Law School at Mass Ave / Jarvis St   \n",
       "4                73     Harvard Square at Brattle St / Eliot St   \n",
       "\n",
       "   start station latitude  start station longitude  end station id  \\\n",
       "0               42.362131               -71.091156             179   \n",
       "1               42.366162               -71.086883             189   \n",
       "2               42.365070               -71.103100              96   \n",
       "3               42.379011               -71.119945             334   \n",
       "4               42.373231               -71.120886             367   \n",
       "\n",
       "                                    end station name  end station latitude  \\\n",
       "0                                      MIT Vassar St             42.355601   \n",
       "1                                          Kendall T             42.362428   \n",
       "2  Cambridge Main Library at Broadway / Trowbridg...             42.373379   \n",
       "3                          Mass Ave at Hadley/Walden             42.391210   \n",
       "4                          Vassal Lane at Tobin/VLUS             42.383932   \n",
       "\n",
       "   end station longitude  bikeid    usertype  gender  age  \n",
       "0             -71.103945    3689  Subscriber       1   32  \n",
       "1             -71.084955    4142  Subscriber       1   29  \n",
       "2             -71.111075    1628  Subscriber       1   42  \n",
       "3             -71.122608    2969  Subscriber       1   26  \n",
       "4             -71.139613    3469  Subscriber       2   40  "
      ]
     },
     "execution_count": 60,
     "metadata": {},
     "output_type": "execute_result"
    }
   ],
   "source": [
    "trips_data.head()"
   ]
  },
  {
   "cell_type": "code",
   "execution_count": 61,
   "id": "eff3c233",
   "metadata": {
    "scrolled": true
   },
   "outputs": [
    {
     "data": {
      "text/html": [
       "<div>\n",
       "<style scoped>\n",
       "    .dataframe tbody tr th:only-of-type {\n",
       "        vertical-align: middle;\n",
       "    }\n",
       "\n",
       "    .dataframe tbody tr th {\n",
       "        vertical-align: top;\n",
       "    }\n",
       "\n",
       "    .dataframe thead th {\n",
       "        text-align: right;\n",
       "    }\n",
       "</style>\n",
       "<table border=\"1\" class=\"dataframe\">\n",
       "  <thead>\n",
       "    <tr style=\"text-align: right;\">\n",
       "      <th></th>\n",
       "      <th>tripduration</th>\n",
       "      <th>starttime</th>\n",
       "      <th>stoptime</th>\n",
       "      <th>start station id</th>\n",
       "      <th>end station id</th>\n",
       "      <th>bikeid</th>\n",
       "      <th>usertype</th>\n",
       "      <th>gender</th>\n",
       "      <th>age</th>\n",
       "    </tr>\n",
       "  </thead>\n",
       "  <tbody>\n",
       "    <tr>\n",
       "      <th>0</th>\n",
       "      <td>371</td>\n",
       "      <td>2019-01-01 00:09:13.7980</td>\n",
       "      <td>2019-01-01 00:15:25.3360</td>\n",
       "      <td>80</td>\n",
       "      <td>179</td>\n",
       "      <td>3689</td>\n",
       "      <td>Subscriber</td>\n",
       "      <td>1</td>\n",
       "      <td>32</td>\n",
       "    </tr>\n",
       "    <tr>\n",
       "      <th>1</th>\n",
       "      <td>264</td>\n",
       "      <td>2019-01-01 00:33:56.1820</td>\n",
       "      <td>2019-01-01 00:38:20.8800</td>\n",
       "      <td>117</td>\n",
       "      <td>189</td>\n",
       "      <td>4142</td>\n",
       "      <td>Subscriber</td>\n",
       "      <td>1</td>\n",
       "      <td>29</td>\n",
       "    </tr>\n",
       "    <tr>\n",
       "      <th>2</th>\n",
       "      <td>458</td>\n",
       "      <td>2019-01-01 00:41:54.6000</td>\n",
       "      <td>2019-01-01 00:49:33.2730</td>\n",
       "      <td>68</td>\n",
       "      <td>96</td>\n",
       "      <td>1628</td>\n",
       "      <td>Subscriber</td>\n",
       "      <td>1</td>\n",
       "      <td>42</td>\n",
       "    </tr>\n",
       "    <tr>\n",
       "      <th>3</th>\n",
       "      <td>364</td>\n",
       "      <td>2019-01-01 00:43:32.5710</td>\n",
       "      <td>2019-01-01 00:49:37.4260</td>\n",
       "      <td>89</td>\n",
       "      <td>334</td>\n",
       "      <td>2969</td>\n",
       "      <td>Subscriber</td>\n",
       "      <td>1</td>\n",
       "      <td>26</td>\n",
       "    </tr>\n",
       "    <tr>\n",
       "      <th>4</th>\n",
       "      <td>681</td>\n",
       "      <td>2019-01-01 00:49:56.4640</td>\n",
       "      <td>2019-01-01 01:01:17.7010</td>\n",
       "      <td>73</td>\n",
       "      <td>367</td>\n",
       "      <td>3469</td>\n",
       "      <td>Subscriber</td>\n",
       "      <td>2</td>\n",
       "      <td>40</td>\n",
       "    </tr>\n",
       "  </tbody>\n",
       "</table>\n",
       "</div>"
      ],
      "text/plain": [
       "   tripduration                 starttime                  stoptime  \\\n",
       "0           371  2019-01-01 00:09:13.7980  2019-01-01 00:15:25.3360   \n",
       "1           264  2019-01-01 00:33:56.1820  2019-01-01 00:38:20.8800   \n",
       "2           458  2019-01-01 00:41:54.6000  2019-01-01 00:49:33.2730   \n",
       "3           364  2019-01-01 00:43:32.5710  2019-01-01 00:49:37.4260   \n",
       "4           681  2019-01-01 00:49:56.4640  2019-01-01 01:01:17.7010   \n",
       "\n",
       "   start station id  end station id  bikeid    usertype  gender  age  \n",
       "0                80             179    3689  Subscriber       1   32  \n",
       "1               117             189    4142  Subscriber       1   29  \n",
       "2                68              96    1628  Subscriber       1   42  \n",
       "3                89             334    2969  Subscriber       1   26  \n",
       "4                73             367    3469  Subscriber       2   40  "
      ]
     },
     "execution_count": 61,
     "metadata": {},
     "output_type": "execute_result"
    }
   ],
   "source": [
    "# since we've already seperated data\n",
    "# dropping unnecessary columns\n",
    "\n",
    "trips = trips_data.drop(['start station name',\n",
    "                          'start station latitude',\n",
    "                          'start station longitude',\n",
    "                          'end station name',\n",
    "                          'end station latitude',\n",
    "                          'end station longitude'], axis=1)\n",
    "\n",
    "trips.head()"
   ]
  },
  {
   "cell_type": "code",
   "execution_count": 62,
   "id": "e04bfefc",
   "metadata": {},
   "outputs": [
    {
     "data": {
      "text/plain": [
       "array(['Subscriber', 'Customer'], dtype=object)"
      ]
     },
     "execution_count": 62,
     "metadata": {},
     "output_type": "execute_result"
    }
   ],
   "source": [
    "trips['usertype'].unique()"
   ]
  },
  {
   "cell_type": "code",
   "execution_count": 63,
   "id": "3e2f5fd9",
   "metadata": {},
   "outputs": [],
   "source": [
    "# encoding Subscriber as 1 and Customer or Casual as 0\n",
    "\n",
    "trips['usertype'] = trips['usertype'].map({'Subscriber': 1, 'Customer': 0})"
   ]
  },
  {
   "cell_type": "code",
   "execution_count": 64,
   "id": "1a9d0d17",
   "metadata": {},
   "outputs": [
    {
     "data": {
      "text/plain": [
       "tripduration         int64\n",
       "starttime           object\n",
       "stoptime            object\n",
       "start station id     int64\n",
       "end station id       int64\n",
       "bikeid               int64\n",
       "usertype             int64\n",
       "gender               int64\n",
       "age                  int64\n",
       "dtype: object"
      ]
     },
     "execution_count": 64,
     "metadata": {},
     "output_type": "execute_result"
    }
   ],
   "source": [
    "trips.dtypes"
   ]
  },
  {
   "cell_type": "code",
   "execution_count": 65,
   "id": "9ed7c0e7",
   "metadata": {},
   "outputs": [],
   "source": [
    "# renaming cols for tableau\n",
    "\n",
    "trips.rename(columns = {'tripduration' : 'duration',\n",
    "                        'starttime' : 'st_time',\n",
    "                        'stoptime' : 'en_time',\n",
    "                        'start station id' : 'st_id',\n",
    "                        'end station id' : 'en_id',\n",
    "                        'bikeid' : 'bike_id',\n",
    "                        'usertype' : 'sub_status',\n",
    "                        'gender' : 'gen',\n",
    "                        'age': 'age'}, inplace = True)"
   ]
  },
  {
   "cell_type": "code",
   "execution_count": 66,
   "id": "b38ba989",
   "metadata": {},
   "outputs": [
    {
     "data": {
      "text/plain": [
       "duration      0\n",
       "st_time       0\n",
       "en_time       0\n",
       "st_id         0\n",
       "en_id         0\n",
       "bike_id       0\n",
       "sub_status    0\n",
       "gen           0\n",
       "age           0\n",
       "dtype: int64"
      ]
     },
     "execution_count": 66,
     "metadata": {},
     "output_type": "execute_result"
    }
   ],
   "source": [
    "trips.isnull().sum()   # no null values"
   ]
  },
  {
   "cell_type": "code",
   "execution_count": 67,
   "id": "c9b51ddc",
   "metadata": {},
   "outputs": [
    {
     "data": {
      "text/plain": [
       "id      0\n",
       "name    0\n",
       "lat     0\n",
       "long    0\n",
       "dtype: int64"
      ]
     },
     "execution_count": 67,
     "metadata": {},
     "output_type": "execute_result"
    }
   ],
   "source": [
    "stations.isnull().sum()   # double checking"
   ]
  },
  {
   "cell_type": "code",
   "execution_count": 68,
   "id": "7d4b446d",
   "metadata": {},
   "outputs": [
    {
     "data": {
      "text/plain": [
       "(11144966, 9)"
      ]
     },
     "execution_count": 68,
     "metadata": {},
     "output_type": "execute_result"
    }
   ],
   "source": [
    "trips.shape"
   ]
  },
  {
   "cell_type": "code",
   "execution_count": 69,
   "id": "0383bc2e",
   "metadata": {},
   "outputs": [],
   "source": [
    "trips = trips.reset_index(drop=True)"
   ]
  },
  {
   "cell_type": "code",
   "execution_count": 70,
   "id": "b80df7ba",
   "metadata": {},
   "outputs": [],
   "source": [
    "trips['trip_seq'] = (trips.index+1)"
   ]
  },
  {
   "cell_type": "code",
   "execution_count": 71,
   "id": "6fcebbe6",
   "metadata": {},
   "outputs": [
    {
     "data": {
      "text/html": [
       "<div>\n",
       "<style scoped>\n",
       "    .dataframe tbody tr th:only-of-type {\n",
       "        vertical-align: middle;\n",
       "    }\n",
       "\n",
       "    .dataframe tbody tr th {\n",
       "        vertical-align: top;\n",
       "    }\n",
       "\n",
       "    .dataframe thead th {\n",
       "        text-align: right;\n",
       "    }\n",
       "</style>\n",
       "<table border=\"1\" class=\"dataframe\">\n",
       "  <thead>\n",
       "    <tr style=\"text-align: right;\">\n",
       "      <th></th>\n",
       "      <th>duration</th>\n",
       "      <th>st_time</th>\n",
       "      <th>en_time</th>\n",
       "      <th>st_id</th>\n",
       "      <th>en_id</th>\n",
       "      <th>bike_id</th>\n",
       "      <th>sub_status</th>\n",
       "      <th>gen</th>\n",
       "      <th>age</th>\n",
       "      <th>trip_seq</th>\n",
       "    </tr>\n",
       "  </thead>\n",
       "  <tbody>\n",
       "    <tr>\n",
       "      <th>11144961</th>\n",
       "      <td>430</td>\n",
       "      <td>2022-11-30 23:54:03.3880</td>\n",
       "      <td>2022-12-01 00:01:13.7060</td>\n",
       "      <td>49</td>\n",
       "      <td>47</td>\n",
       "      <td>5316</td>\n",
       "      <td>1</td>\n",
       "      <td>0</td>\n",
       "      <td>0</td>\n",
       "      <td>11144962</td>\n",
       "    </tr>\n",
       "    <tr>\n",
       "      <th>11144962</th>\n",
       "      <td>483</td>\n",
       "      <td>2022-11-30 23:55:32.0990</td>\n",
       "      <td>2022-12-01 00:03:35.3390</td>\n",
       "      <td>97</td>\n",
       "      <td>104</td>\n",
       "      <td>6920</td>\n",
       "      <td>0</td>\n",
       "      <td>0</td>\n",
       "      <td>0</td>\n",
       "      <td>11144963</td>\n",
       "    </tr>\n",
       "    <tr>\n",
       "      <th>11144963</th>\n",
       "      <td>265</td>\n",
       "      <td>2022-11-30 23:57:44.4060</td>\n",
       "      <td>2022-12-01 00:02:09.4220</td>\n",
       "      <td>104</td>\n",
       "      <td>74</td>\n",
       "      <td>7638</td>\n",
       "      <td>1</td>\n",
       "      <td>0</td>\n",
       "      <td>0</td>\n",
       "      <td>11144964</td>\n",
       "    </tr>\n",
       "    <tr>\n",
       "      <th>11144964</th>\n",
       "      <td>327</td>\n",
       "      <td>2022-11-30 23:58:33.3240</td>\n",
       "      <td>2022-12-01 00:04:00.9110</td>\n",
       "      <td>12</td>\n",
       "      <td>200</td>\n",
       "      <td>8088</td>\n",
       "      <td>1</td>\n",
       "      <td>0</td>\n",
       "      <td>0</td>\n",
       "      <td>11144965</td>\n",
       "    </tr>\n",
       "    <tr>\n",
       "      <th>11144965</th>\n",
       "      <td>164</td>\n",
       "      <td>2022-11-30 23:58:42.8700</td>\n",
       "      <td>2022-12-01 00:01:27.8160</td>\n",
       "      <td>446</td>\n",
       "      <td>361</td>\n",
       "      <td>4855</td>\n",
       "      <td>1</td>\n",
       "      <td>0</td>\n",
       "      <td>0</td>\n",
       "      <td>11144966</td>\n",
       "    </tr>\n",
       "  </tbody>\n",
       "</table>\n",
       "</div>"
      ],
      "text/plain": [
       "          duration                   st_time                   en_time  st_id  \\\n",
       "11144961       430  2022-11-30 23:54:03.3880  2022-12-01 00:01:13.7060     49   \n",
       "11144962       483  2022-11-30 23:55:32.0990  2022-12-01 00:03:35.3390     97   \n",
       "11144963       265  2022-11-30 23:57:44.4060  2022-12-01 00:02:09.4220    104   \n",
       "11144964       327  2022-11-30 23:58:33.3240  2022-12-01 00:04:00.9110     12   \n",
       "11144965       164  2022-11-30 23:58:42.8700  2022-12-01 00:01:27.8160    446   \n",
       "\n",
       "          en_id  bike_id  sub_status  gen  age  trip_seq  \n",
       "11144961     47     5316           1    0    0  11144962  \n",
       "11144962    104     6920           0    0    0  11144963  \n",
       "11144963     74     7638           1    0    0  11144964  \n",
       "11144964    200     8088           1    0    0  11144965  \n",
       "11144965    361     4855           1    0    0  11144966  "
      ]
     },
     "execution_count": 71,
     "metadata": {},
     "output_type": "execute_result"
    }
   ],
   "source": [
    "trips.tail()"
   ]
  },
  {
   "cell_type": "code",
   "execution_count": 72,
   "id": "739f607a",
   "metadata": {},
   "outputs": [],
   "source": [
    "# generate the uuid\n",
    "\n",
    "import uuid\n",
    "\n",
    "ids = {trip_seq: str(uuid.uuid4()) for trip_seq in trips['trip_seq'].unique()}\n",
    "\n",
    "trips['trip_uuid'] = trips['trip_seq'].map(ids)"
   ]
  },
  {
   "cell_type": "code",
   "execution_count": 73,
   "id": "b64ca038",
   "metadata": {},
   "outputs": [
    {
     "data": {
      "text/html": [
       "<div>\n",
       "<style scoped>\n",
       "    .dataframe tbody tr th:only-of-type {\n",
       "        vertical-align: middle;\n",
       "    }\n",
       "\n",
       "    .dataframe tbody tr th {\n",
       "        vertical-align: top;\n",
       "    }\n",
       "\n",
       "    .dataframe thead th {\n",
       "        text-align: right;\n",
       "    }\n",
       "</style>\n",
       "<table border=\"1\" class=\"dataframe\">\n",
       "  <thead>\n",
       "    <tr style=\"text-align: right;\">\n",
       "      <th></th>\n",
       "      <th>duration</th>\n",
       "      <th>st_time</th>\n",
       "      <th>en_time</th>\n",
       "      <th>st_id</th>\n",
       "      <th>en_id</th>\n",
       "      <th>bike_id</th>\n",
       "      <th>sub_status</th>\n",
       "      <th>gen</th>\n",
       "      <th>age</th>\n",
       "      <th>trip_seq</th>\n",
       "      <th>trip_uuid</th>\n",
       "    </tr>\n",
       "  </thead>\n",
       "  <tbody>\n",
       "    <tr>\n",
       "      <th>8089783</th>\n",
       "      <td>478</td>\n",
       "      <td>2022-04-21 22:10:29.6360</td>\n",
       "      <td>2022-04-21 22:18:28.0600</td>\n",
       "      <td>68</td>\n",
       "      <td>29</td>\n",
       "      <td>3791</td>\n",
       "      <td>1</td>\n",
       "      <td>0</td>\n",
       "      <td>0</td>\n",
       "      <td>8089784</td>\n",
       "      <td>ba31837c-f049-4944-9daf-cb06f6c7eb1b</td>\n",
       "    </tr>\n",
       "    <tr>\n",
       "      <th>6572512</th>\n",
       "      <td>292</td>\n",
       "      <td>2021-09-19 18:40:37.1470</td>\n",
       "      <td>2021-09-19 18:45:29.2550</td>\n",
       "      <td>515</td>\n",
       "      <td>386</td>\n",
       "      <td>4899</td>\n",
       "      <td>1</td>\n",
       "      <td>0</td>\n",
       "      <td>0</td>\n",
       "      <td>6572513</td>\n",
       "      <td>8f45e6c9-64b1-4893-9026-6382dd1bbc0a</td>\n",
       "    </tr>\n",
       "    <tr>\n",
       "      <th>783447</th>\n",
       "      <td>2162</td>\n",
       "      <td>2019-06-16 17:47:59.0640</td>\n",
       "      <td>2019-06-16 18:24:01.8290</td>\n",
       "      <td>74</td>\n",
       "      <td>357</td>\n",
       "      <td>2324</td>\n",
       "      <td>0</td>\n",
       "      <td>0</td>\n",
       "      <td>50</td>\n",
       "      <td>783448</td>\n",
       "      <td>0b816815-b1ec-476f-8026-128e86a81082</td>\n",
       "    </tr>\n",
       "    <tr>\n",
       "      <th>9332239</th>\n",
       "      <td>405</td>\n",
       "      <td>2022-07-30 21:36:36.2130</td>\n",
       "      <td>2022-07-30 21:43:21.8420</td>\n",
       "      <td>4</td>\n",
       "      <td>412</td>\n",
       "      <td>4828</td>\n",
       "      <td>0</td>\n",
       "      <td>0</td>\n",
       "      <td>0</td>\n",
       "      <td>9332240</td>\n",
       "      <td>50c318e5-6882-4444-a71f-9eeab4dc38d3</td>\n",
       "    </tr>\n",
       "    <tr>\n",
       "      <th>8236697</th>\n",
       "      <td>1052</td>\n",
       "      <td>2022-05-06 20:41:36.7890</td>\n",
       "      <td>2022-05-06 20:59:09.6730</td>\n",
       "      <td>356</td>\n",
       "      <td>236</td>\n",
       "      <td>5557</td>\n",
       "      <td>1</td>\n",
       "      <td>0</td>\n",
       "      <td>0</td>\n",
       "      <td>8236698</td>\n",
       "      <td>2786a747-ebe0-482d-9ba8-7d07ff56bf2c</td>\n",
       "    </tr>\n",
       "    <tr>\n",
       "      <th>2815622</th>\n",
       "      <td>606</td>\n",
       "      <td>2020-03-06 08:03:46.7040</td>\n",
       "      <td>2020-03-06 08:13:53.2680</td>\n",
       "      <td>27</td>\n",
       "      <td>39</td>\n",
       "      <td>5904</td>\n",
       "      <td>1</td>\n",
       "      <td>2</td>\n",
       "      <td>28</td>\n",
       "      <td>2815623</td>\n",
       "      <td>b64e3e01-eb78-4aa1-bf1a-c3f01d623dc6</td>\n",
       "    </tr>\n",
       "    <tr>\n",
       "      <th>4331803</th>\n",
       "      <td>962</td>\n",
       "      <td>2020-10-25 17:45:25.1370</td>\n",
       "      <td>2020-10-25 18:01:27.7730</td>\n",
       "      <td>380</td>\n",
       "      <td>89</td>\n",
       "      <td>5434</td>\n",
       "      <td>1</td>\n",
       "      <td>0</td>\n",
       "      <td>0</td>\n",
       "      <td>4331804</td>\n",
       "      <td>2903b258-d56a-4faf-877e-560d77fecd4c</td>\n",
       "    </tr>\n",
       "    <tr>\n",
       "      <th>8025099</th>\n",
       "      <td>12738</td>\n",
       "      <td>2022-04-15 11:38:26.2670</td>\n",
       "      <td>2022-04-15 15:10:45.2080</td>\n",
       "      <td>21</td>\n",
       "      <td>361</td>\n",
       "      <td>3715</td>\n",
       "      <td>0</td>\n",
       "      <td>0</td>\n",
       "      <td>0</td>\n",
       "      <td>8025100</td>\n",
       "      <td>c06ff834-9f09-4430-befa-14741bb525cd</td>\n",
       "    </tr>\n",
       "    <tr>\n",
       "      <th>9485216</th>\n",
       "      <td>635</td>\n",
       "      <td>2022-08-11 11:19:42.7830</td>\n",
       "      <td>2022-08-11 11:30:18.6450</td>\n",
       "      <td>39</td>\n",
       "      <td>35</td>\n",
       "      <td>2922</td>\n",
       "      <td>1</td>\n",
       "      <td>0</td>\n",
       "      <td>0</td>\n",
       "      <td>9485217</td>\n",
       "      <td>00edebc8-fe0c-4624-966c-f174d68d8688</td>\n",
       "    </tr>\n",
       "    <tr>\n",
       "      <th>2746711</th>\n",
       "      <td>1140</td>\n",
       "      <td>2020-02-23 11:08:15.3300</td>\n",
       "      <td>2020-02-23 11:27:15.6470</td>\n",
       "      <td>95</td>\n",
       "      <td>98</td>\n",
       "      <td>3980</td>\n",
       "      <td>1</td>\n",
       "      <td>2</td>\n",
       "      <td>29</td>\n",
       "      <td>2746712</td>\n",
       "      <td>c625f653-7e83-4edc-bf24-5f2b05d0f642</td>\n",
       "    </tr>\n",
       "  </tbody>\n",
       "</table>\n",
       "</div>"
      ],
      "text/plain": [
       "         duration                   st_time                   en_time  st_id  \\\n",
       "8089783       478  2022-04-21 22:10:29.6360  2022-04-21 22:18:28.0600     68   \n",
       "6572512       292  2021-09-19 18:40:37.1470  2021-09-19 18:45:29.2550    515   \n",
       "783447       2162  2019-06-16 17:47:59.0640  2019-06-16 18:24:01.8290     74   \n",
       "9332239       405  2022-07-30 21:36:36.2130  2022-07-30 21:43:21.8420      4   \n",
       "8236697      1052  2022-05-06 20:41:36.7890  2022-05-06 20:59:09.6730    356   \n",
       "2815622       606  2020-03-06 08:03:46.7040  2020-03-06 08:13:53.2680     27   \n",
       "4331803       962  2020-10-25 17:45:25.1370  2020-10-25 18:01:27.7730    380   \n",
       "8025099     12738  2022-04-15 11:38:26.2670  2022-04-15 15:10:45.2080     21   \n",
       "9485216       635  2022-08-11 11:19:42.7830  2022-08-11 11:30:18.6450     39   \n",
       "2746711      1140  2020-02-23 11:08:15.3300  2020-02-23 11:27:15.6470     95   \n",
       "\n",
       "         en_id  bike_id  sub_status  gen  age  trip_seq  \\\n",
       "8089783     29     3791           1    0    0   8089784   \n",
       "6572512    386     4899           1    0    0   6572513   \n",
       "783447     357     2324           0    0   50    783448   \n",
       "9332239    412     4828           0    0    0   9332240   \n",
       "8236697    236     5557           1    0    0   8236698   \n",
       "2815622     39     5904           1    2   28   2815623   \n",
       "4331803     89     5434           1    0    0   4331804   \n",
       "8025099    361     3715           0    0    0   8025100   \n",
       "9485216     35     2922           1    0    0   9485217   \n",
       "2746711     98     3980           1    2   29   2746712   \n",
       "\n",
       "                                    trip_uuid  \n",
       "8089783  ba31837c-f049-4944-9daf-cb06f6c7eb1b  \n",
       "6572512  8f45e6c9-64b1-4893-9026-6382dd1bbc0a  \n",
       "783447   0b816815-b1ec-476f-8026-128e86a81082  \n",
       "9332239  50c318e5-6882-4444-a71f-9eeab4dc38d3  \n",
       "8236697  2786a747-ebe0-482d-9ba8-7d07ff56bf2c  \n",
       "2815622  b64e3e01-eb78-4aa1-bf1a-c3f01d623dc6  \n",
       "4331803  2903b258-d56a-4faf-877e-560d77fecd4c  \n",
       "8025099  c06ff834-9f09-4430-befa-14741bb525cd  \n",
       "9485216  00edebc8-fe0c-4624-966c-f174d68d8688  \n",
       "2746711  c625f653-7e83-4edc-bf24-5f2b05d0f642  "
      ]
     },
     "execution_count": 73,
     "metadata": {},
     "output_type": "execute_result"
    }
   ],
   "source": [
    "trips.sample(n = 10)"
   ]
  },
  {
   "cell_type": "code",
   "execution_count": 74,
   "id": "e34f4edd",
   "metadata": {
    "scrolled": false
   },
   "outputs": [
    {
     "data": {
      "text/html": [
       "<div>\n",
       "<style scoped>\n",
       "    .dataframe tbody tr th:only-of-type {\n",
       "        vertical-align: middle;\n",
       "    }\n",
       "\n",
       "    .dataframe tbody tr th {\n",
       "        vertical-align: top;\n",
       "    }\n",
       "\n",
       "    .dataframe thead th {\n",
       "        text-align: right;\n",
       "    }\n",
       "</style>\n",
       "<table border=\"1\" class=\"dataframe\">\n",
       "  <thead>\n",
       "    <tr style=\"text-align: right;\">\n",
       "      <th></th>\n",
       "      <th>duration</th>\n",
       "      <th>st_time</th>\n",
       "      <th>en_time</th>\n",
       "      <th>st_id</th>\n",
       "      <th>en_id</th>\n",
       "      <th>bike_id</th>\n",
       "      <th>sub_status</th>\n",
       "      <th>gen</th>\n",
       "      <th>age</th>\n",
       "      <th>trip_seq</th>\n",
       "      <th>trip_uuid</th>\n",
       "    </tr>\n",
       "  </thead>\n",
       "  <tbody>\n",
       "    <tr>\n",
       "      <th>11144961</th>\n",
       "      <td>430</td>\n",
       "      <td>2022-11-30 23:54:03.3880</td>\n",
       "      <td>2022-12-01 00:01:13.7060</td>\n",
       "      <td>49</td>\n",
       "      <td>47</td>\n",
       "      <td>5316</td>\n",
       "      <td>1</td>\n",
       "      <td>0</td>\n",
       "      <td>0</td>\n",
       "      <td>11144962</td>\n",
       "      <td>51a385e1-29e2-448a-b2e0-fbcde88738e4</td>\n",
       "    </tr>\n",
       "    <tr>\n",
       "      <th>11144962</th>\n",
       "      <td>483</td>\n",
       "      <td>2022-11-30 23:55:32.0990</td>\n",
       "      <td>2022-12-01 00:03:35.3390</td>\n",
       "      <td>97</td>\n",
       "      <td>104</td>\n",
       "      <td>6920</td>\n",
       "      <td>0</td>\n",
       "      <td>0</td>\n",
       "      <td>0</td>\n",
       "      <td>11144963</td>\n",
       "      <td>686e7f30-d2a7-46cf-a78b-b4f5a1e0cfde</td>\n",
       "    </tr>\n",
       "    <tr>\n",
       "      <th>11144963</th>\n",
       "      <td>265</td>\n",
       "      <td>2022-11-30 23:57:44.4060</td>\n",
       "      <td>2022-12-01 00:02:09.4220</td>\n",
       "      <td>104</td>\n",
       "      <td>74</td>\n",
       "      <td>7638</td>\n",
       "      <td>1</td>\n",
       "      <td>0</td>\n",
       "      <td>0</td>\n",
       "      <td>11144964</td>\n",
       "      <td>8b97d38c-3346-4448-bad5-eedd4fe984c7</td>\n",
       "    </tr>\n",
       "    <tr>\n",
       "      <th>11144964</th>\n",
       "      <td>327</td>\n",
       "      <td>2022-11-30 23:58:33.3240</td>\n",
       "      <td>2022-12-01 00:04:00.9110</td>\n",
       "      <td>12</td>\n",
       "      <td>200</td>\n",
       "      <td>8088</td>\n",
       "      <td>1</td>\n",
       "      <td>0</td>\n",
       "      <td>0</td>\n",
       "      <td>11144965</td>\n",
       "      <td>9bc3c866-2c4a-4f35-a951-dd0355c35716</td>\n",
       "    </tr>\n",
       "    <tr>\n",
       "      <th>11144965</th>\n",
       "      <td>164</td>\n",
       "      <td>2022-11-30 23:58:42.8700</td>\n",
       "      <td>2022-12-01 00:01:27.8160</td>\n",
       "      <td>446</td>\n",
       "      <td>361</td>\n",
       "      <td>4855</td>\n",
       "      <td>1</td>\n",
       "      <td>0</td>\n",
       "      <td>0</td>\n",
       "      <td>11144966</td>\n",
       "      <td>0cdb3d31-bf85-4782-b18c-335fab258cfe</td>\n",
       "    </tr>\n",
       "  </tbody>\n",
       "</table>\n",
       "</div>"
      ],
      "text/plain": [
       "          duration                   st_time                   en_time  st_id  \\\n",
       "11144961       430  2022-11-30 23:54:03.3880  2022-12-01 00:01:13.7060     49   \n",
       "11144962       483  2022-11-30 23:55:32.0990  2022-12-01 00:03:35.3390     97   \n",
       "11144963       265  2022-11-30 23:57:44.4060  2022-12-01 00:02:09.4220    104   \n",
       "11144964       327  2022-11-30 23:58:33.3240  2022-12-01 00:04:00.9110     12   \n",
       "11144965       164  2022-11-30 23:58:42.8700  2022-12-01 00:01:27.8160    446   \n",
       "\n",
       "          en_id  bike_id  sub_status  gen  age  trip_seq  \\\n",
       "11144961     47     5316           1    0    0  11144962   \n",
       "11144962    104     6920           0    0    0  11144963   \n",
       "11144963     74     7638           1    0    0  11144964   \n",
       "11144964    200     8088           1    0    0  11144965   \n",
       "11144965    361     4855           1    0    0  11144966   \n",
       "\n",
       "                                     trip_uuid  \n",
       "11144961  51a385e1-29e2-448a-b2e0-fbcde88738e4  \n",
       "11144962  686e7f30-d2a7-46cf-a78b-b4f5a1e0cfde  \n",
       "11144963  8b97d38c-3346-4448-bad5-eedd4fe984c7  \n",
       "11144964  9bc3c866-2c4a-4f35-a951-dd0355c35716  \n",
       "11144965  0cdb3d31-bf85-4782-b18c-335fab258cfe  "
      ]
     },
     "execution_count": 74,
     "metadata": {},
     "output_type": "execute_result"
    }
   ],
   "source": [
    "trips.tail()"
   ]
  },
  {
   "cell_type": "code",
   "execution_count": 75,
   "id": "a4461ee4",
   "metadata": {
    "scrolled": true
   },
   "outputs": [],
   "source": [
    "# path for tableau data\n",
    "\n",
    "tableau_path = \"tableau/\"\n",
    "\n",
    "if not os.path.isdir(tableau_path):\n",
    "    os.mkdir(tableau_path)"
   ]
  },
  {
   "cell_type": "code",
   "execution_count": 76,
   "id": "e180e34f",
   "metadata": {},
   "outputs": [
    {
     "name": "stdout",
     "output_type": "stream",
     "text": [
      "Tripdata Ready\n"
     ]
    }
   ],
   "source": [
    "print('Tripdata Ready')"
   ]
  },
  {
   "cell_type": "code",
   "execution_count": 77,
   "id": "b8de47a3",
   "metadata": {
    "scrolled": true
   },
   "outputs": [],
   "source": [
    "# saving the tripdata\n",
    "\n",
    "trips.to_csv(tableau_path + 'bluebikes_trips.csv', index=False)"
   ]
  },
  {
   "cell_type": "code",
   "execution_count": 78,
   "id": "c6241200",
   "metadata": {},
   "outputs": [
    {
     "name": "stdout",
     "output_type": "stream",
     "text": [
      "Tripdata Saved\n"
     ]
    }
   ],
   "source": [
    "print('Tripdata Saved')"
   ]
  },
  {
   "cell_type": "code",
   "execution_count": 79,
   "id": "fa4f0ade",
   "metadata": {},
   "outputs": [
    {
     "data": {
      "text/plain": [
       "'\\ngeocoding stations data\\nsince we only have the latitude and longitude information,\\nwe can leverage that to get out other relevant features\\n\\n'"
      ]
     },
     "execution_count": 79,
     "metadata": {},
     "output_type": "execute_result"
    }
   ],
   "source": [
    "'''\n",
    "geocoding stations data\n",
    "since we only have the latitude and longitude information,\n",
    "we can leverage that to get out other relevant features\n",
    "\n",
    "'''"
   ]
  },
  {
   "cell_type": "code",
   "execution_count": 80,
   "id": "4e0b0b87",
   "metadata": {
    "scrolled": true
   },
   "outputs": [
    {
     "data": {
      "text/plain": [
       "(620, 4)"
      ]
     },
     "execution_count": 80,
     "metadata": {},
     "output_type": "execute_result"
    }
   ],
   "source": [
    "stations.shape # 613 unique stations"
   ]
  },
  {
   "cell_type": "code",
   "execution_count": 81,
   "id": "8b289fa8",
   "metadata": {},
   "outputs": [],
   "source": [
    "# removing rows with invalid coordinates as that will cause issue with the api input\n",
    "\n",
    "stations = stations[stations.lat != 0.0]\n",
    "stations = stations[stations.long != 0.0]"
   ]
  },
  {
   "cell_type": "code",
   "execution_count": 82,
   "id": "036b383c",
   "metadata": {},
   "outputs": [
    {
     "data": {
      "text/html": [
       "<div>\n",
       "<style scoped>\n",
       "    .dataframe tbody tr th:only-of-type {\n",
       "        vertical-align: middle;\n",
       "    }\n",
       "\n",
       "    .dataframe tbody tr th {\n",
       "        vertical-align: top;\n",
       "    }\n",
       "\n",
       "    .dataframe thead th {\n",
       "        text-align: right;\n",
       "    }\n",
       "</style>\n",
       "<table border=\"1\" class=\"dataframe\">\n",
       "  <thead>\n",
       "    <tr style=\"text-align: right;\">\n",
       "      <th></th>\n",
       "      <th>id</th>\n",
       "      <th>name</th>\n",
       "      <th>lat</th>\n",
       "      <th>long</th>\n",
       "    </tr>\n",
       "  </thead>\n",
       "  <tbody>\n",
       "    <tr>\n",
       "      <th>0</th>\n",
       "      <td>80</td>\n",
       "      <td>MIT Stata Center at Vassar St / Main St</td>\n",
       "      <td>42.362131</td>\n",
       "      <td>-71.091156</td>\n",
       "    </tr>\n",
       "    <tr>\n",
       "      <th>1</th>\n",
       "      <td>117</td>\n",
       "      <td>Binney St / Sixth St</td>\n",
       "      <td>42.366162</td>\n",
       "      <td>-71.086883</td>\n",
       "    </tr>\n",
       "    <tr>\n",
       "      <th>2</th>\n",
       "      <td>68</td>\n",
       "      <td>Central Square at Mass Ave / Essex St</td>\n",
       "      <td>42.365070</td>\n",
       "      <td>-71.103100</td>\n",
       "    </tr>\n",
       "    <tr>\n",
       "      <th>3</th>\n",
       "      <td>89</td>\n",
       "      <td>Harvard Law School at Mass Ave / Jarvis St</td>\n",
       "      <td>42.379011</td>\n",
       "      <td>-71.119945</td>\n",
       "    </tr>\n",
       "    <tr>\n",
       "      <th>4</th>\n",
       "      <td>73</td>\n",
       "      <td>Harvard Square at Brattle St / Eliot St</td>\n",
       "      <td>42.373231</td>\n",
       "      <td>-71.120886</td>\n",
       "    </tr>\n",
       "    <tr>\n",
       "      <th>...</th>\n",
       "      <td>...</td>\n",
       "      <td>...</td>\n",
       "      <td>...</td>\n",
       "      <td>...</td>\n",
       "    </tr>\n",
       "    <tr>\n",
       "      <th>3565053</th>\n",
       "      <td>499</td>\n",
       "      <td>Conway Park @ Bleachery Ct (Temp Winter Station)</td>\n",
       "      <td>42.383458</td>\n",
       "      <td>-71.107711</td>\n",
       "    </tr>\n",
       "    <tr>\n",
       "      <th>3570393</th>\n",
       "      <td>591</td>\n",
       "      <td>515 Somerville Ave (Temp. Winter Location)</td>\n",
       "      <td>42.383227</td>\n",
       "      <td>-71.106069</td>\n",
       "    </tr>\n",
       "    <tr>\n",
       "      <th>3583154</th>\n",
       "      <td>590</td>\n",
       "      <td>John Ahern Field at Kennedy-Longfellow School</td>\n",
       "      <td>42.369036</td>\n",
       "      <td>-71.086310</td>\n",
       "    </tr>\n",
       "    <tr>\n",
       "      <th>1343117</th>\n",
       "      <td>164</td>\n",
       "      <td>Warehouse Lab PBSC</td>\n",
       "      <td>42.386455</td>\n",
       "      <td>-71.075420</td>\n",
       "    </tr>\n",
       "    <tr>\n",
       "      <th>1824917</th>\n",
       "      <td>438</td>\n",
       "      <td>Mobile Temporary Station 1</td>\n",
       "      <td>42.351478</td>\n",
       "      <td>-71.044162</td>\n",
       "    </tr>\n",
       "  </tbody>\n",
       "</table>\n",
       "<p>616 rows × 4 columns</p>\n",
       "</div>"
      ],
      "text/plain": [
       "          id                                              name        lat  \\\n",
       "0         80           MIT Stata Center at Vassar St / Main St  42.362131   \n",
       "1        117                              Binney St / Sixth St  42.366162   \n",
       "2         68             Central Square at Mass Ave / Essex St  42.365070   \n",
       "3         89        Harvard Law School at Mass Ave / Jarvis St  42.379011   \n",
       "4         73           Harvard Square at Brattle St / Eliot St  42.373231   \n",
       "...      ...                                               ...        ...   \n",
       "3565053  499  Conway Park @ Bleachery Ct (Temp Winter Station)  42.383458   \n",
       "3570393  591        515 Somerville Ave (Temp. Winter Location)  42.383227   \n",
       "3583154  590     John Ahern Field at Kennedy-Longfellow School  42.369036   \n",
       "1343117  164                                Warehouse Lab PBSC  42.386455   \n",
       "1824917  438                        Mobile Temporary Station 1  42.351478   \n",
       "\n",
       "              long  \n",
       "0       -71.091156  \n",
       "1       -71.086883  \n",
       "2       -71.103100  \n",
       "3       -71.119945  \n",
       "4       -71.120886  \n",
       "...            ...  \n",
       "3565053 -71.107711  \n",
       "3570393 -71.106069  \n",
       "3583154 -71.086310  \n",
       "1343117 -71.075420  \n",
       "1824917 -71.044162  \n",
       "\n",
       "[616 rows x 4 columns]"
      ]
     },
     "execution_count": 82,
     "metadata": {},
     "output_type": "execute_result"
    }
   ],
   "source": [
    "stations"
   ]
  },
  {
   "cell_type": "code",
   "execution_count": 83,
   "id": "769f6524",
   "metadata": {},
   "outputs": [],
   "source": [
    "stations = stations.reset_index(drop=True)"
   ]
  },
  {
   "cell_type": "code",
   "execution_count": 84,
   "id": "c779bfe4",
   "metadata": {},
   "outputs": [
    {
     "data": {
      "text/plain": [
       "(616, 4)"
      ]
     },
     "execution_count": 84,
     "metadata": {},
     "output_type": "execute_result"
    }
   ],
   "source": [
    "stations.shape"
   ]
  },
  {
   "cell_type": "code",
   "execution_count": 85,
   "id": "a03a58f4",
   "metadata": {
    "scrolled": true
   },
   "outputs": [
    {
     "data": {
      "text/html": [
       "<div>\n",
       "<style scoped>\n",
       "    .dataframe tbody tr th:only-of-type {\n",
       "        vertical-align: middle;\n",
       "    }\n",
       "\n",
       "    .dataframe tbody tr th {\n",
       "        vertical-align: top;\n",
       "    }\n",
       "\n",
       "    .dataframe thead th {\n",
       "        text-align: right;\n",
       "    }\n",
       "</style>\n",
       "<table border=\"1\" class=\"dataframe\">\n",
       "  <thead>\n",
       "    <tr style=\"text-align: right;\">\n",
       "      <th></th>\n",
       "      <th>lat</th>\n",
       "      <th>long</th>\n",
       "    </tr>\n",
       "  </thead>\n",
       "  <tbody>\n",
       "    <tr>\n",
       "      <th>611</th>\n",
       "      <td>42.383458</td>\n",
       "      <td>-71.107711</td>\n",
       "    </tr>\n",
       "    <tr>\n",
       "      <th>612</th>\n",
       "      <td>42.383227</td>\n",
       "      <td>-71.106069</td>\n",
       "    </tr>\n",
       "    <tr>\n",
       "      <th>613</th>\n",
       "      <td>42.369036</td>\n",
       "      <td>-71.086310</td>\n",
       "    </tr>\n",
       "    <tr>\n",
       "      <th>614</th>\n",
       "      <td>42.386455</td>\n",
       "      <td>-71.075420</td>\n",
       "    </tr>\n",
       "    <tr>\n",
       "      <th>615</th>\n",
       "      <td>42.351478</td>\n",
       "      <td>-71.044162</td>\n",
       "    </tr>\n",
       "  </tbody>\n",
       "</table>\n",
       "</div>"
      ],
      "text/plain": [
       "           lat       long\n",
       "611  42.383458 -71.107711\n",
       "612  42.383227 -71.106069\n",
       "613  42.369036 -71.086310\n",
       "614  42.386455 -71.075420\n",
       "615  42.351478 -71.044162"
      ]
     },
     "execution_count": 85,
     "metadata": {},
     "output_type": "execute_result"
    }
   ],
   "source": [
    "# converting to lat-long\n",
    "\n",
    "gd = stations[['lat', 'long']]\n",
    "gd.tail()"
   ]
  },
  {
   "cell_type": "code",
   "execution_count": 86,
   "id": "fa217dd2",
   "metadata": {},
   "outputs": [
    {
     "data": {
      "text/plain": [
       "lat     float64\n",
       "long    float64\n",
       "dtype: object"
      ]
     },
     "execution_count": 86,
     "metadata": {},
     "output_type": "execute_result"
    }
   ],
   "source": [
    "gd.dtypes"
   ]
  },
  {
   "cell_type": "code",
   "execution_count": 87,
   "id": "37fc3f29",
   "metadata": {},
   "outputs": [
    {
     "data": {
      "text/plain": [
       "(616, 2)"
      ]
     },
     "execution_count": 87,
     "metadata": {},
     "output_type": "execute_result"
    }
   ],
   "source": [
    "gd.shape"
   ]
  },
  {
   "cell_type": "code",
   "execution_count": 88,
   "id": "686e9f06",
   "metadata": {},
   "outputs": [],
   "source": [
    "# using geocoder to reverse geocode the pair data\n",
    "# link: https://www.geocod.io/docs/\n",
    "# !pip install pygeocodio"
   ]
  },
  {
   "cell_type": "code",
   "execution_count": 89,
   "id": "d143e9d9",
   "metadata": {},
   "outputs": [],
   "source": [
    "# api key\n",
    "\n",
    "from geocodio import GeocodioClient\n",
    "client = GeocodioClient('1373aa32ff56fa827854aa64623758a83328438', timeout=300)  "
   ]
  },
  {
   "cell_type": "code",
   "execution_count": 90,
   "id": "795878c5",
   "metadata": {},
   "outputs": [],
   "source": [
    "coor_list = gd.values.tolist() # converting to list obj"
   ]
  },
  {
   "cell_type": "code",
   "execution_count": 91,
   "id": "ec52b236",
   "metadata": {},
   "outputs": [
    {
     "data": {
      "text/plain": [
       "616"
      ]
     },
     "execution_count": 91,
     "metadata": {},
     "output_type": "execute_result"
    }
   ],
   "source": [
    "len(coor_list)"
   ]
  },
  {
   "cell_type": "code",
   "execution_count": 92,
   "id": "083347e8",
   "metadata": {},
   "outputs": [
    {
     "data": {
      "text/plain": [
       "[[42.3621312344991, -71.09115600585936],\n",
       " [42.36616223459919, -71.08688293667001],\n",
       " [42.36507, -71.1031]]"
      ]
     },
     "execution_count": 92,
     "metadata": {},
     "output_type": "execute_result"
    }
   ],
   "source": [
    "firstThree = coor_list[:3]\n",
    "firstThree"
   ]
  },
  {
   "cell_type": "code",
   "execution_count": 93,
   "id": "03b9d701",
   "metadata": {},
   "outputs": [],
   "source": [
    "'''\n",
    "this will generate a json response containing the suitable responses for each lat-long pair\n",
    "'''\n",
    "locations = client.reverse(coor_list)   # reverse geocoder"
   ]
  },
  {
   "cell_type": "code",
   "execution_count": 94,
   "id": "55caf317",
   "metadata": {},
   "outputs": [],
   "source": [
    "import json\n",
    "\n",
    "jsonResponse = json.dumps(locations)"
   ]
  },
  {
   "cell_type": "code",
   "execution_count": 95,
   "id": "98cf7dac",
   "metadata": {},
   "outputs": [],
   "source": [
    "df_j = pd.read_json(jsonResponse, orient ='index.address_components') # address_components in parser from the raw data"
   ]
  },
  {
   "cell_type": "code",
   "execution_count": 96,
   "id": "6b3ad61a",
   "metadata": {
    "scrolled": true
   },
   "outputs": [],
   "source": [
    "# creating a b\n",
    "\n",
    "nf = pd.DataFrame(columns=['formatted_address',\n",
    "                           'accuracy',\n",
    "                           'accuracy_type',\n",
    "                           'source',\n",
    "                           'address_components.number',\n",
    "                           'address_components.street',\n",
    "                           'address_components.suffix',\n",
    "                           'address_components.formatted_street',\n",
    "                           'address_components.city',\n",
    "                           'address_components.county',\n",
    "                           'address_components.state',\n",
    "                           'address_components.zip',\n",
    "                           'address_components.country',\n",
    "                           'location.lat',\n",
    "                           'location.lng'])"
   ]
  },
  {
   "cell_type": "code",
   "execution_count": 97,
   "id": "6ec97e59",
   "metadata": {
    "scrolled": true
   },
   "outputs": [
    {
     "data": {
      "text/html": [
       "<div>\n",
       "<style scoped>\n",
       "    .dataframe tbody tr th:only-of-type {\n",
       "        vertical-align: middle;\n",
       "    }\n",
       "\n",
       "    .dataframe tbody tr th {\n",
       "        vertical-align: top;\n",
       "    }\n",
       "\n",
       "    .dataframe thead th {\n",
       "        text-align: right;\n",
       "    }\n",
       "</style>\n",
       "<table border=\"1\" class=\"dataframe\">\n",
       "  <thead>\n",
       "    <tr style=\"text-align: right;\">\n",
       "      <th></th>\n",
       "      <th>formatted_address</th>\n",
       "      <th>accuracy</th>\n",
       "      <th>accuracy_type</th>\n",
       "      <th>source</th>\n",
       "      <th>address_components.number</th>\n",
       "      <th>address_components.street</th>\n",
       "      <th>address_components.suffix</th>\n",
       "      <th>address_components.formatted_street</th>\n",
       "      <th>address_components.city</th>\n",
       "      <th>address_components.county</th>\n",
       "      <th>address_components.state</th>\n",
       "      <th>address_components.zip</th>\n",
       "      <th>address_components.country</th>\n",
       "      <th>location.lat</th>\n",
       "      <th>location.lng</th>\n",
       "    </tr>\n",
       "  </thead>\n",
       "  <tbody>\n",
       "  </tbody>\n",
       "</table>\n",
       "</div>"
      ],
      "text/plain": [
       "Empty DataFrame\n",
       "Columns: [formatted_address, accuracy, accuracy_type, source, address_components.number, address_components.street, address_components.suffix, address_components.formatted_street, address_components.city, address_components.county, address_components.state, address_components.zip, address_components.country, location.lat, location.lng]\n",
       "Index: []"
      ]
     },
     "execution_count": 97,
     "metadata": {},
     "output_type": "execute_result"
    }
   ],
   "source": [
    "nf"
   ]
  },
  {
   "cell_type": "code",
   "execution_count": 98,
   "id": "4b152c3c",
   "metadata": {},
   "outputs": [],
   "source": [
    "warnings.filterwarnings('ignore') # supressing warnings"
   ]
  },
  {
   "cell_type": "code",
   "execution_count": 99,
   "id": "d1cc9464",
   "metadata": {
    "scrolled": true
   },
   "outputs": [],
   "source": [
    "# df -> for each lat-long pair, found data\n",
    "# nf -> new df which contains the best row out of the returned pair by getting max(accuracy)\n",
    "\n",
    "# appending them to create a single df which is going to be merged with 'station' df\n",
    "\n",
    "for x in range(len(gd)):\n",
    "    df = pd.json_normalize(df_j.results[x])\n",
    "    nf = nf.append(df.loc[df[\"accuracy\"].idxmax()].to_frame().T)"
   ]
  },
  {
   "cell_type": "code",
   "execution_count": 100,
   "id": "d2b923e6",
   "metadata": {},
   "outputs": [],
   "source": [
    "nf = nf.reset_index(drop=True)"
   ]
  },
  {
   "cell_type": "code",
   "execution_count": 101,
   "id": "2cc891ac",
   "metadata": {},
   "outputs": [
    {
     "data": {
      "text/html": [
       "<div>\n",
       "<style scoped>\n",
       "    .dataframe tbody tr th:only-of-type {\n",
       "        vertical-align: middle;\n",
       "    }\n",
       "\n",
       "    .dataframe tbody tr th {\n",
       "        vertical-align: top;\n",
       "    }\n",
       "\n",
       "    .dataframe thead th {\n",
       "        text-align: right;\n",
       "    }\n",
       "</style>\n",
       "<table border=\"1\" class=\"dataframe\">\n",
       "  <thead>\n",
       "    <tr style=\"text-align: right;\">\n",
       "      <th></th>\n",
       "      <th>formatted_address</th>\n",
       "      <th>accuracy</th>\n",
       "      <th>accuracy_type</th>\n",
       "      <th>source</th>\n",
       "      <th>address_components.number</th>\n",
       "      <th>address_components.street</th>\n",
       "      <th>address_components.suffix</th>\n",
       "      <th>address_components.formatted_street</th>\n",
       "      <th>address_components.city</th>\n",
       "      <th>address_components.county</th>\n",
       "      <th>address_components.state</th>\n",
       "      <th>address_components.zip</th>\n",
       "      <th>address_components.country</th>\n",
       "      <th>location.lat</th>\n",
       "      <th>location.lng</th>\n",
       "      <th>address_components.predirectional</th>\n",
       "      <th>address_components.prefix</th>\n",
       "      <th>address_components.postdirectional</th>\n",
       "    </tr>\n",
       "  </thead>\n",
       "  <tbody>\n",
       "    <tr>\n",
       "      <th>0</th>\n",
       "      <td>43 Vassar St, Cambridge, MA 02139</td>\n",
       "      <td>0.99</td>\n",
       "      <td>rooftop</td>\n",
       "      <td>Office of Geographic Information (MassGIS), Co...</td>\n",
       "      <td>43</td>\n",
       "      <td>Vassar</td>\n",
       "      <td>St</td>\n",
       "      <td>Vassar St</td>\n",
       "      <td>Cambridge</td>\n",
       "      <td>Middlesex County</td>\n",
       "      <td>MA</td>\n",
       "      <td>02139</td>\n",
       "      <td>US</td>\n",
       "      <td>42.362259</td>\n",
       "      <td>-71.091714</td>\n",
       "      <td>NaN</td>\n",
       "      <td>NaN</td>\n",
       "      <td>NaN</td>\n",
       "    </tr>\n",
       "    <tr>\n",
       "      <th>1</th>\n",
       "      <td>157 6th St, Cambridge, MA 02142</td>\n",
       "      <td>0.99</td>\n",
       "      <td>rooftop</td>\n",
       "      <td>Office of Geographic Information (MassGIS), Co...</td>\n",
       "      <td>157</td>\n",
       "      <td>6th</td>\n",
       "      <td>St</td>\n",
       "      <td>6th St</td>\n",
       "      <td>Cambridge</td>\n",
       "      <td>Middlesex County</td>\n",
       "      <td>MA</td>\n",
       "      <td>02142</td>\n",
       "      <td>US</td>\n",
       "      <td>42.366699</td>\n",
       "      <td>-71.087009</td>\n",
       "      <td>NaN</td>\n",
       "      <td>NaN</td>\n",
       "      <td>NaN</td>\n",
       "    </tr>\n",
       "    <tr>\n",
       "      <th>2</th>\n",
       "      <td>605 Massachusetts Ave, Cambridge, MA 02139</td>\n",
       "      <td>1.0</td>\n",
       "      <td>rooftop</td>\n",
       "      <td>City of Cambridge</td>\n",
       "      <td>605</td>\n",
       "      <td>Massachusetts</td>\n",
       "      <td>Ave</td>\n",
       "      <td>Massachusetts Ave</td>\n",
       "      <td>Cambridge</td>\n",
       "      <td>Middlesex County</td>\n",
       "      <td>MA</td>\n",
       "      <td>02139</td>\n",
       "      <td>US</td>\n",
       "      <td>42.365159</td>\n",
       "      <td>-71.102976</td>\n",
       "      <td>NaN</td>\n",
       "      <td>NaN</td>\n",
       "      <td>NaN</td>\n",
       "    </tr>\n",
       "    <tr>\n",
       "      <th>3</th>\n",
       "      <td>1563 Massachusetts Ave, Cambridge, MA 02138</td>\n",
       "      <td>0.99</td>\n",
       "      <td>rooftop</td>\n",
       "      <td>Office of Geographic Information (MassGIS), Co...</td>\n",
       "      <td>1563</td>\n",
       "      <td>Massachusetts</td>\n",
       "      <td>Ave</td>\n",
       "      <td>Massachusetts Ave</td>\n",
       "      <td>Cambridge</td>\n",
       "      <td>Middlesex County</td>\n",
       "      <td>MA</td>\n",
       "      <td>02138</td>\n",
       "      <td>US</td>\n",
       "      <td>42.378695</td>\n",
       "      <td>-71.119648</td>\n",
       "      <td>NaN</td>\n",
       "      <td>NaN</td>\n",
       "      <td>NaN</td>\n",
       "    </tr>\n",
       "    <tr>\n",
       "      <th>4</th>\n",
       "      <td>36 Brattle St, Cambridge, MA 02138</td>\n",
       "      <td>1.0</td>\n",
       "      <td>rooftop</td>\n",
       "      <td>Office of Geographic Information (MassGIS), Co...</td>\n",
       "      <td>36</td>\n",
       "      <td>Brattle</td>\n",
       "      <td>St</td>\n",
       "      <td>Brattle St</td>\n",
       "      <td>Cambridge</td>\n",
       "      <td>Middlesex County</td>\n",
       "      <td>MA</td>\n",
       "      <td>02138</td>\n",
       "      <td>US</td>\n",
       "      <td>42.373065</td>\n",
       "      <td>-71.120622</td>\n",
       "      <td>NaN</td>\n",
       "      <td>NaN</td>\n",
       "      <td>NaN</td>\n",
       "    </tr>\n",
       "    <tr>\n",
       "      <th>...</th>\n",
       "      <td>...</td>\n",
       "      <td>...</td>\n",
       "      <td>...</td>\n",
       "      <td>...</td>\n",
       "      <td>...</td>\n",
       "      <td>...</td>\n",
       "      <td>...</td>\n",
       "      <td>...</td>\n",
       "      <td>...</td>\n",
       "      <td>...</td>\n",
       "      <td>...</td>\n",
       "      <td>...</td>\n",
       "      <td>...</td>\n",
       "      <td>...</td>\n",
       "      <td>...</td>\n",
       "      <td>...</td>\n",
       "      <td>...</td>\n",
       "      <td>...</td>\n",
       "    </tr>\n",
       "    <tr>\n",
       "      <th>611</th>\n",
       "      <td>559 Somerville Ave, Somerville, MA 02143</td>\n",
       "      <td>1.0</td>\n",
       "      <td>rooftop</td>\n",
       "      <td>Office of Geographic Information (MassGIS), Co...</td>\n",
       "      <td>559</td>\n",
       "      <td>Somerville</td>\n",
       "      <td>Ave</td>\n",
       "      <td>Somerville Ave</td>\n",
       "      <td>Somerville</td>\n",
       "      <td>Middlesex County</td>\n",
       "      <td>MA</td>\n",
       "      <td>02143</td>\n",
       "      <td>US</td>\n",
       "      <td>42.383676</td>\n",
       "      <td>-71.107529</td>\n",
       "      <td>NaN</td>\n",
       "      <td>NaN</td>\n",
       "      <td>NaN</td>\n",
       "    </tr>\n",
       "    <tr>\n",
       "      <th>612</th>\n",
       "      <td>524 Somerville Ave, Somerville, MA 02143</td>\n",
       "      <td>1.0</td>\n",
       "      <td>rooftop</td>\n",
       "      <td>Office of Geographic Information (MassGIS), Co...</td>\n",
       "      <td>524</td>\n",
       "      <td>Somerville</td>\n",
       "      <td>Ave</td>\n",
       "      <td>Somerville Ave</td>\n",
       "      <td>Somerville</td>\n",
       "      <td>Middlesex County</td>\n",
       "      <td>MA</td>\n",
       "      <td>02143</td>\n",
       "      <td>US</td>\n",
       "      <td>42.382989</td>\n",
       "      <td>-71.106153</td>\n",
       "      <td>NaN</td>\n",
       "      <td>NaN</td>\n",
       "      <td>NaN</td>\n",
       "    </tr>\n",
       "    <tr>\n",
       "      <th>613</th>\n",
       "      <td>259 Charles St, Cambridge, MA 02141</td>\n",
       "      <td>0.99</td>\n",
       "      <td>rooftop</td>\n",
       "      <td>Office of Geographic Information (MassGIS), Co...</td>\n",
       "      <td>259</td>\n",
       "      <td>Charles</td>\n",
       "      <td>St</td>\n",
       "      <td>Charles St</td>\n",
       "      <td>Cambridge</td>\n",
       "      <td>Middlesex County</td>\n",
       "      <td>MA</td>\n",
       "      <td>02141</td>\n",
       "      <td>US</td>\n",
       "      <td>42.368807</td>\n",
       "      <td>-71.086708</td>\n",
       "      <td>NaN</td>\n",
       "      <td>NaN</td>\n",
       "      <td>NaN</td>\n",
       "    </tr>\n",
       "    <tr>\n",
       "      <th>614</th>\n",
       "      <td>10 Dorrance St, Charlestown, MA 02129</td>\n",
       "      <td>1.0</td>\n",
       "      <td>rooftop</td>\n",
       "      <td>City of Boston</td>\n",
       "      <td>10</td>\n",
       "      <td>Dorrance</td>\n",
       "      <td>St</td>\n",
       "      <td>Dorrance St</td>\n",
       "      <td>Charlestown</td>\n",
       "      <td>Suffolk County</td>\n",
       "      <td>MA</td>\n",
       "      <td>02129</td>\n",
       "      <td>US</td>\n",
       "      <td>42.38654</td>\n",
       "      <td>-71.07573</td>\n",
       "      <td>NaN</td>\n",
       "      <td>NaN</td>\n",
       "      <td>NaN</td>\n",
       "    </tr>\n",
       "    <tr>\n",
       "      <th>615</th>\n",
       "      <td>81 Northern Ave, Boston, MA 02210</td>\n",
       "      <td>1.0</td>\n",
       "      <td>rooftop</td>\n",
       "      <td>Office of Geographic Information (MassGIS), Co...</td>\n",
       "      <td>81</td>\n",
       "      <td>Northern</td>\n",
       "      <td>Ave</td>\n",
       "      <td>Northern Ave</td>\n",
       "      <td>Boston</td>\n",
       "      <td>Suffolk County</td>\n",
       "      <td>MA</td>\n",
       "      <td>02210</td>\n",
       "      <td>US</td>\n",
       "      <td>42.351513</td>\n",
       "      <td>-71.044189</td>\n",
       "      <td>NaN</td>\n",
       "      <td>NaN</td>\n",
       "      <td>NaN</td>\n",
       "    </tr>\n",
       "  </tbody>\n",
       "</table>\n",
       "<p>616 rows × 18 columns</p>\n",
       "</div>"
      ],
      "text/plain": [
       "                               formatted_address accuracy accuracy_type  \\\n",
       "0              43 Vassar St, Cambridge, MA 02139     0.99       rooftop   \n",
       "1                157 6th St, Cambridge, MA 02142     0.99       rooftop   \n",
       "2     605 Massachusetts Ave, Cambridge, MA 02139      1.0       rooftop   \n",
       "3    1563 Massachusetts Ave, Cambridge, MA 02138     0.99       rooftop   \n",
       "4             36 Brattle St, Cambridge, MA 02138      1.0       rooftop   \n",
       "..                                           ...      ...           ...   \n",
       "611     559 Somerville Ave, Somerville, MA 02143      1.0       rooftop   \n",
       "612     524 Somerville Ave, Somerville, MA 02143      1.0       rooftop   \n",
       "613          259 Charles St, Cambridge, MA 02141     0.99       rooftop   \n",
       "614        10 Dorrance St, Charlestown, MA 02129      1.0       rooftop   \n",
       "615            81 Northern Ave, Boston, MA 02210      1.0       rooftop   \n",
       "\n",
       "                                                source  \\\n",
       "0    Office of Geographic Information (MassGIS), Co...   \n",
       "1    Office of Geographic Information (MassGIS), Co...   \n",
       "2                                    City of Cambridge   \n",
       "3    Office of Geographic Information (MassGIS), Co...   \n",
       "4    Office of Geographic Information (MassGIS), Co...   \n",
       "..                                                 ...   \n",
       "611  Office of Geographic Information (MassGIS), Co...   \n",
       "612  Office of Geographic Information (MassGIS), Co...   \n",
       "613  Office of Geographic Information (MassGIS), Co...   \n",
       "614                                     City of Boston   \n",
       "615  Office of Geographic Information (MassGIS), Co...   \n",
       "\n",
       "    address_components.number address_components.street  \\\n",
       "0                          43                    Vassar   \n",
       "1                         157                       6th   \n",
       "2                         605             Massachusetts   \n",
       "3                        1563             Massachusetts   \n",
       "4                          36                   Brattle   \n",
       "..                        ...                       ...   \n",
       "611                       559                Somerville   \n",
       "612                       524                Somerville   \n",
       "613                       259                   Charles   \n",
       "614                        10                  Dorrance   \n",
       "615                        81                  Northern   \n",
       "\n",
       "    address_components.suffix address_components.formatted_street  \\\n",
       "0                          St                           Vassar St   \n",
       "1                          St                              6th St   \n",
       "2                         Ave                   Massachusetts Ave   \n",
       "3                         Ave                   Massachusetts Ave   \n",
       "4                          St                          Brattle St   \n",
       "..                        ...                                 ...   \n",
       "611                       Ave                      Somerville Ave   \n",
       "612                       Ave                      Somerville Ave   \n",
       "613                        St                          Charles St   \n",
       "614                        St                         Dorrance St   \n",
       "615                       Ave                        Northern Ave   \n",
       "\n",
       "    address_components.city address_components.county  \\\n",
       "0                 Cambridge          Middlesex County   \n",
       "1                 Cambridge          Middlesex County   \n",
       "2                 Cambridge          Middlesex County   \n",
       "3                 Cambridge          Middlesex County   \n",
       "4                 Cambridge          Middlesex County   \n",
       "..                      ...                       ...   \n",
       "611              Somerville          Middlesex County   \n",
       "612              Somerville          Middlesex County   \n",
       "613               Cambridge          Middlesex County   \n",
       "614             Charlestown            Suffolk County   \n",
       "615                  Boston            Suffolk County   \n",
       "\n",
       "    address_components.state address_components.zip  \\\n",
       "0                         MA                  02139   \n",
       "1                         MA                  02142   \n",
       "2                         MA                  02139   \n",
       "3                         MA                  02138   \n",
       "4                         MA                  02138   \n",
       "..                       ...                    ...   \n",
       "611                       MA                  02143   \n",
       "612                       MA                  02143   \n",
       "613                       MA                  02141   \n",
       "614                       MA                  02129   \n",
       "615                       MA                  02210   \n",
       "\n",
       "    address_components.country location.lat location.lng  \\\n",
       "0                           US    42.362259   -71.091714   \n",
       "1                           US    42.366699   -71.087009   \n",
       "2                           US    42.365159   -71.102976   \n",
       "3                           US    42.378695   -71.119648   \n",
       "4                           US    42.373065   -71.120622   \n",
       "..                         ...          ...          ...   \n",
       "611                         US    42.383676   -71.107529   \n",
       "612                         US    42.382989   -71.106153   \n",
       "613                         US    42.368807   -71.086708   \n",
       "614                         US     42.38654    -71.07573   \n",
       "615                         US    42.351513   -71.044189   \n",
       "\n",
       "    address_components.predirectional address_components.prefix  \\\n",
       "0                                 NaN                       NaN   \n",
       "1                                 NaN                       NaN   \n",
       "2                                 NaN                       NaN   \n",
       "3                                 NaN                       NaN   \n",
       "4                                 NaN                       NaN   \n",
       "..                                ...                       ...   \n",
       "611                               NaN                       NaN   \n",
       "612                               NaN                       NaN   \n",
       "613                               NaN                       NaN   \n",
       "614                               NaN                       NaN   \n",
       "615                               NaN                       NaN   \n",
       "\n",
       "    address_components.postdirectional  \n",
       "0                                  NaN  \n",
       "1                                  NaN  \n",
       "2                                  NaN  \n",
       "3                                  NaN  \n",
       "4                                  NaN  \n",
       "..                                 ...  \n",
       "611                                NaN  \n",
       "612                                NaN  \n",
       "613                                NaN  \n",
       "614                                NaN  \n",
       "615                                NaN  \n",
       "\n",
       "[616 rows x 18 columns]"
      ]
     },
     "execution_count": 101,
     "metadata": {},
     "output_type": "execute_result"
    }
   ],
   "source": [
    "nf"
   ]
  },
  {
   "cell_type": "code",
   "execution_count": 102,
   "id": "be785aff",
   "metadata": {},
   "outputs": [],
   "source": [
    "station_data = pd.concat([stations, nf], axis = 1)"
   ]
  },
  {
   "cell_type": "code",
   "execution_count": 103,
   "id": "00f35945",
   "metadata": {},
   "outputs": [
    {
     "data": {
      "text/plain": [
       "['id',\n",
       " 'name',\n",
       " 'lat',\n",
       " 'long',\n",
       " 'formatted_address',\n",
       " 'accuracy',\n",
       " 'accuracy_type',\n",
       " 'source',\n",
       " 'address_components.number',\n",
       " 'address_components.street',\n",
       " 'address_components.suffix',\n",
       " 'address_components.formatted_street',\n",
       " 'address_components.city',\n",
       " 'address_components.county',\n",
       " 'address_components.state',\n",
       " 'address_components.zip',\n",
       " 'address_components.country',\n",
       " 'location.lat',\n",
       " 'location.lng',\n",
       " 'address_components.predirectional',\n",
       " 'address_components.prefix',\n",
       " 'address_components.postdirectional']"
      ]
     },
     "execution_count": 103,
     "metadata": {},
     "output_type": "execute_result"
    }
   ],
   "source": [
    "list(station_data.columns.values)"
   ]
  },
  {
   "cell_type": "code",
   "execution_count": 104,
   "id": "1b8ae3ba",
   "metadata": {},
   "outputs": [
    {
     "data": {
      "text/plain": [
       "array([0.99, 1.0, 0.98, 0.96, 0.97], dtype=object)"
      ]
     },
     "execution_count": 104,
     "metadata": {},
     "output_type": "execute_result"
    }
   ],
   "source": [
    "# checking accuracy\n",
    "\n",
    "station_data['accuracy'].unique()"
   ]
  },
  {
   "cell_type": "code",
   "execution_count": 105,
   "id": "8f1a967a",
   "metadata": {
    "scrolled": false
   },
   "outputs": [],
   "source": [
    "# dropping unnecessary data cols\n",
    "\n",
    "bluebikes_stations = station_data.drop(['formatted_address',\n",
    "                                        'accuracy',\n",
    "                                        'accuracy_type',\n",
    "                                        'source',\n",
    "                                        'address_components.number',\n",
    "                                        'address_components.street',\n",
    "                                        'address_components.suffix',\n",
    "                                        'address_components.country',\n",
    "                                        'location.lat',\n",
    "                                        'location.lng',\n",
    "                                        'address_components.predirectional',\n",
    "                                        'address_components.prefix',\n",
    "                                        'address_components.postdirectional'], axis = 1)"
   ]
  },
  {
   "cell_type": "code",
   "execution_count": 106,
   "id": "fcb669d2",
   "metadata": {},
   "outputs": [],
   "source": [
    "# renaming cols for tableau\n",
    "\n",
    "bluebikes_stations.rename(columns = {'address_components.formatted_street' : 'street',\n",
    "                                     'address_components.city' : 'city',\n",
    "                                     'address_components.county' : 'county',\n",
    "                                     'address_components.state' : 'state',\n",
    "                                     'address_components.zip' : 'zip'}, inplace = True)"
   ]
  },
  {
   "cell_type": "code",
   "execution_count": 107,
   "id": "b8a9fbb9",
   "metadata": {},
   "outputs": [
    {
     "name": "stdout",
     "output_type": "stream",
     "text": [
      "Stationdata Ready\n"
     ]
    }
   ],
   "source": [
    "print('Stationdata Ready')"
   ]
  },
  {
   "cell_type": "code",
   "execution_count": 108,
   "id": "75cb9a3c",
   "metadata": {},
   "outputs": [
    {
     "data": {
      "text/html": [
       "<div>\n",
       "<style scoped>\n",
       "    .dataframe tbody tr th:only-of-type {\n",
       "        vertical-align: middle;\n",
       "    }\n",
       "\n",
       "    .dataframe tbody tr th {\n",
       "        vertical-align: top;\n",
       "    }\n",
       "\n",
       "    .dataframe thead th {\n",
       "        text-align: right;\n",
       "    }\n",
       "</style>\n",
       "<table border=\"1\" class=\"dataframe\">\n",
       "  <thead>\n",
       "    <tr style=\"text-align: right;\">\n",
       "      <th></th>\n",
       "      <th>id</th>\n",
       "      <th>name</th>\n",
       "      <th>lat</th>\n",
       "      <th>long</th>\n",
       "      <th>street</th>\n",
       "      <th>city</th>\n",
       "      <th>county</th>\n",
       "      <th>state</th>\n",
       "      <th>zip</th>\n",
       "    </tr>\n",
       "  </thead>\n",
       "  <tbody>\n",
       "    <tr>\n",
       "      <th>611</th>\n",
       "      <td>499</td>\n",
       "      <td>Conway Park @ Bleachery Ct (Temp Winter Station)</td>\n",
       "      <td>42.383458</td>\n",
       "      <td>-71.107711</td>\n",
       "      <td>Somerville Ave</td>\n",
       "      <td>Somerville</td>\n",
       "      <td>Middlesex County</td>\n",
       "      <td>MA</td>\n",
       "      <td>02143</td>\n",
       "    </tr>\n",
       "    <tr>\n",
       "      <th>612</th>\n",
       "      <td>591</td>\n",
       "      <td>515 Somerville Ave (Temp. Winter Location)</td>\n",
       "      <td>42.383227</td>\n",
       "      <td>-71.106069</td>\n",
       "      <td>Somerville Ave</td>\n",
       "      <td>Somerville</td>\n",
       "      <td>Middlesex County</td>\n",
       "      <td>MA</td>\n",
       "      <td>02143</td>\n",
       "    </tr>\n",
       "    <tr>\n",
       "      <th>613</th>\n",
       "      <td>590</td>\n",
       "      <td>John Ahern Field at Kennedy-Longfellow School</td>\n",
       "      <td>42.369036</td>\n",
       "      <td>-71.086310</td>\n",
       "      <td>Charles St</td>\n",
       "      <td>Cambridge</td>\n",
       "      <td>Middlesex County</td>\n",
       "      <td>MA</td>\n",
       "      <td>02141</td>\n",
       "    </tr>\n",
       "    <tr>\n",
       "      <th>614</th>\n",
       "      <td>164</td>\n",
       "      <td>Warehouse Lab PBSC</td>\n",
       "      <td>42.386455</td>\n",
       "      <td>-71.075420</td>\n",
       "      <td>Dorrance St</td>\n",
       "      <td>Charlestown</td>\n",
       "      <td>Suffolk County</td>\n",
       "      <td>MA</td>\n",
       "      <td>02129</td>\n",
       "    </tr>\n",
       "    <tr>\n",
       "      <th>615</th>\n",
       "      <td>438</td>\n",
       "      <td>Mobile Temporary Station 1</td>\n",
       "      <td>42.351478</td>\n",
       "      <td>-71.044162</td>\n",
       "      <td>Northern Ave</td>\n",
       "      <td>Boston</td>\n",
       "      <td>Suffolk County</td>\n",
       "      <td>MA</td>\n",
       "      <td>02210</td>\n",
       "    </tr>\n",
       "  </tbody>\n",
       "</table>\n",
       "</div>"
      ],
      "text/plain": [
       "      id                                              name        lat  \\\n",
       "611  499  Conway Park @ Bleachery Ct (Temp Winter Station)  42.383458   \n",
       "612  591        515 Somerville Ave (Temp. Winter Location)  42.383227   \n",
       "613  590     John Ahern Field at Kennedy-Longfellow School  42.369036   \n",
       "614  164                                Warehouse Lab PBSC  42.386455   \n",
       "615  438                        Mobile Temporary Station 1  42.351478   \n",
       "\n",
       "          long          street         city            county state    zip  \n",
       "611 -71.107711  Somerville Ave   Somerville  Middlesex County    MA  02143  \n",
       "612 -71.106069  Somerville Ave   Somerville  Middlesex County    MA  02143  \n",
       "613 -71.086310      Charles St    Cambridge  Middlesex County    MA  02141  \n",
       "614 -71.075420     Dorrance St  Charlestown    Suffolk County    MA  02129  \n",
       "615 -71.044162    Northern Ave       Boston    Suffolk County    MA  02210  "
      ]
     },
     "execution_count": 108,
     "metadata": {},
     "output_type": "execute_result"
    }
   ],
   "source": [
    "bluebikes_stations.tail()"
   ]
  },
  {
   "cell_type": "code",
   "execution_count": 109,
   "id": "ffd0cd8a",
   "metadata": {},
   "outputs": [
    {
     "data": {
      "text/plain": [
       "(616, 9)"
      ]
     },
     "execution_count": 109,
     "metadata": {},
     "output_type": "execute_result"
    }
   ],
   "source": [
    "bluebikes_stations.shape"
   ]
  },
  {
   "cell_type": "code",
   "execution_count": 110,
   "id": "93db8f69",
   "metadata": {},
   "outputs": [],
   "source": [
    "# saving the stations\n",
    "\n",
    "bluebikes_stations.to_csv(tableau_path + 'bluebikes_stations.csv', index=False)"
   ]
  },
  {
   "cell_type": "code",
   "execution_count": 111,
   "id": "6ad429c9",
   "metadata": {},
   "outputs": [
    {
     "name": "stdout",
     "output_type": "stream",
     "text": [
      "Stationdata Saved\n"
     ]
    }
   ],
   "source": [
    "print('Stationdata Saved')"
   ]
  },
  {
   "cell_type": "code",
   "execution_count": null,
   "id": "cc74c6a0",
   "metadata": {},
   "outputs": [],
   "source": []
  }
 ],
 "metadata": {
  "kernelspec": {
   "display_name": "Python 3 (ipykernel)",
   "language": "python",
   "name": "python3"
  },
  "language_info": {
   "codemirror_mode": {
    "name": "ipython",
    "version": 3
   },
   "file_extension": ".py",
   "mimetype": "text/x-python",
   "name": "python",
   "nbconvert_exporter": "python",
   "pygments_lexer": "ipython3",
   "version": "3.9.12"
  }
 },
 "nbformat": 4,
 "nbformat_minor": 5
}
